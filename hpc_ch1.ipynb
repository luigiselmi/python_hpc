{
 "cells": [
  {
   "cell_type": "markdown",
   "id": "92f7f662-53fe-40ef-a00b-0ee025c22955",
   "metadata": {},
   "source": [
    "# Computations\n",
    "A processor may have more than one CPU that can access data storage systems, with different read and write charateristics, connected by buses. Knowing how a CPU performs a calculation provides insight in how to write performant code."
   ]
  },
  {
   "cell_type": "code",
   "execution_count": 6,
   "id": "8b951392-b865-4593-9bf7-0fc4741a8c26",
   "metadata": {},
   "outputs": [],
   "source": [
    "import math\n",
    "import time"
   ]
  },
  {
   "cell_type": "code",
   "execution_count": 2,
   "id": "1b349c21-82db-4451-8d2f-17e1ce4df427",
   "metadata": {},
   "outputs": [],
   "source": [
    "def check_prime(number):\n",
    "    sqrt_number = math.sqrt(number)\n",
    "    for i in range(2, int(sqrt_number) + 1):\n",
    "        if (number / i).is_integer():\n",
    "            return False\n",
    "    return True"
   ]
  },
  {
   "cell_type": "markdown",
   "id": "63535c5a-cf7a-4544-bc7a-c9a0df858fae",
   "metadata": {},
   "source": [
    "If we perform the same calculation with a prime number the second time may take no time since the previous result is cached."
   ]
  },
  {
   "cell_type": "code",
   "execution_count": 48,
   "id": "e920e397-0620-4fa6-8fc3-092c161c5daa",
   "metadata": {},
   "outputs": [
    {
     "name": "stdout",
     "output_type": "stream",
     "text": [
      "check_prime(1000000131173) = False\n",
      "Compute time: 3995.66 μ sec.\n"
     ]
    }
   ],
   "source": [
    "prime_candidate = 1000000131173\n",
    "start_time = time.time()\n",
    "result = check_prime(prime_candidate)\n",
    "end_time = time.time()\n",
    "compute_time = (end_time - start_time) * 1000000 # microseconds\n",
    "print(f\"check_prime({prime_candidate}) = {result}\")\n",
    "print('Compute time: {:.2f} \\u03BC sec.'.format(compute_time))"
   ]
  },
  {
   "cell_type": "code",
   "execution_count": null,
   "id": "57cca200-97c8-4b52-876e-df9cf6650255",
   "metadata": {},
   "outputs": [],
   "source": []
  }
 ],
 "metadata": {
  "kernelspec": {
   "display_name": "Python 3 (ipykernel)",
   "language": "python",
   "name": "python3"
  },
  "language_info": {
   "codemirror_mode": {
    "name": "ipython",
    "version": 3
   },
   "file_extension": ".py",
   "mimetype": "text/x-python",
   "name": "python",
   "nbconvert_exporter": "python",
   "pygments_lexer": "ipython3",
   "version": "3.12.5"
  }
 },
 "nbformat": 4,
 "nbformat_minor": 5
}
