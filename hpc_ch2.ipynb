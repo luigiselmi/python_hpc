{
 "cells": [
  {
   "cell_type": "markdown",
   "id": "83c7d8ad-36cf-4b44-a935-79d2442baa1a",
   "metadata": {},
   "source": [
    "# Performant Python"
   ]
  },
  {
   "cell_type": "markdown",
   "id": "ddff9b38-a831-4712-828b-662a4ce9d620",
   "metadata": {},
   "source": [
    "## 1. Performant Python\n",
    "A computing unit is made of a CPU connected to a RAM memory unit and a HD for data storage. A CPU comes with its own very fast memory units, or caches, named L1, L2. A CPU is characterized by\n",
    " \n",
    "* Number of instructions per cycle (IPC)\n",
    "* Number of cycles per second (or clock speed)\n",
    "\n",
    "A CPU can perform vectorized computation with the Single Instruction Multiple Data (SIMD) architecture.\n",
    "Different techniques have been developed to improve a CPU performance:\n",
    "\n",
    "* Multithreading, that is, using one CPU by more than one process\n",
    "* Multicore architecture, that is putting more cores on one CPU for parallel processing. Specific software must be developed to use the cores available. The slowest process in a parallel computation defines the speed of the computation.\n",
    "\n",
    "Python cannot handle parallel instructions. This issue is known as Global Interpreter Lock (GIL). Only one instruction is executed at any one time even if more cores are available. Some packages like NumPy do not have this limitation.\n",
    "\n",
    "The characteristics of memory units, cache, RAM, SSD, hard disks, are read/write speeds and latency.      \n",
    "\n",
    "The parts of a computer, CPU, RAM and memory units, communicate via a bus. They have different speed and number of lines, e.g. 8 or a multiple to send one or more bytes of data from one component to another. The characteristics of a bus are its width (number of lines) and transfers per second (frequency).\n",
    "\n",
    "Other issues of Python against high performance are that it is an interpreted language, so the code cannot be optimized at compilation time, and that it uses dynamic types not static ones so the compiler cannot check for errors nor optimize the memory usage. Many of these issues can be solved by using additional packages such as NumPy that provide API interfaces between the Python code and C/C++ or Fortran compiled code.\n"
   ]
  },
  {
   "cell_type": "code",
   "execution_count": 8,
   "id": "b005de12-e096-4cce-8bb9-4e6cfc76333c",
   "metadata": {},
   "outputs": [],
   "source": [
    "import math\n",
    "from PIL import Image\n",
    "import array\n",
    "import time"
   ]
  },
  {
   "cell_type": "code",
   "execution_count": 9,
   "id": "f432eb24-fbfc-4c51-b7dc-3105c65715a1",
   "metadata": {},
   "outputs": [],
   "source": [
    "def check_prime(number):\n",
    "    sqrt_number = math.sqrt(number)\n",
    "    for i in range(2, int(sqrt_number) + 1):\n",
    "        if (number / i).is_integer():\n",
    "            return False\n",
    "        return True"
   ]
  },
  {
   "cell_type": "code",
   "execution_count": 10,
   "id": "5ad9e6f7-6d16-45b0-a6d9-6640a0eb9ca9",
   "metadata": {},
   "outputs": [
    {
     "name": "stdout",
     "output_type": "stream",
     "text": [
      "check_prime(10,000,000) = False\n",
      "check_prime(10,000,019) = True\n"
     ]
    }
   ],
   "source": [
    "print(f\"check_prime(10,000,000) = {check_prime(10_000_000)}\")\n",
    "# check_prime(10,000,000) = False\n",
    "print(f\"check_prime(10,000,019) = {check_prime(10_000_019)}\")\n",
    "# check_prime(10,000,019) = True"
   ]
  },
  {
   "cell_type": "markdown",
   "id": "cb8a32f7-97cb-4894-80d7-4738eee0f8c3",
   "metadata": {},
   "source": [
    "## Profiling"
   ]
  },
  {
   "cell_type": "code",
   "execution_count": 11,
   "id": "bc978580-aa4e-4e8c-977e-5ff7e93fc67d",
   "metadata": {},
   "outputs": [
    {
     "name": "stdout",
     "output_type": "stream",
     "text": [
      "2.545584412271571\n"
     ]
    }
   ],
   "source": [
    "z = -1.8 -1.8j\n",
    "print(abs(z))"
   ]
  },
  {
   "cell_type": "code",
   "execution_count": 12,
   "id": "f45078c2-36bc-40f2-9f48-c34afbe2d8d4",
   "metadata": {},
   "outputs": [
    {
     "name": "stdout",
     "output_type": "stream",
     "text": [
      "0: z=-0.62772-0.42193j, abs(z)=0.756, c=-0.62772-0.42193j\n",
      "1: z=-0.41171+0.10778j, abs(z)=0.426, c=-0.62772-0.42193j\n",
      "2: z=-0.46983-0.51068j, abs(z)=0.694, c=-0.62772-0.42193j\n",
      "3: z=-0.66777+0.05793j, abs(z)=0.670, c=-0.62772-0.42193j\n",
      "4: z=-0.18516-0.49930j, abs(z)=0.533, c=-0.62772-0.42193j\n",
      "5: z=-0.84274-0.23703j, abs(z)=0.875, c=-0.62772-0.42193j\n",
      "6: z= 0.02630-0.02242j, abs(z)=0.035, c=-0.62772-0.42193j\n",
      "7: z=-0.62753-0.42311j, abs(z)=0.757, c=-0.62772-0.42193j\n",
      "8: z=-0.41295+0.10910j, abs(z)=0.427, c=-0.62772-0.42193j\n"
     ]
    }
   ],
   "source": [
    "c = -0.62772-0.42193j\n",
    "z = 0+0j\n",
    "for n in range(9):\n",
    "    z = z*z + c\n",
    "    print(f\"{n}: z={z: .5f}, abs(z)={abs(z):0.3f}, c={c: .5f}\")"
   ]
  },
  {
   "cell_type": "code",
   "execution_count": 13,
   "id": "d65a7bc5-1e8a-4aeb-8415-dcfc73dfadeb",
   "metadata": {},
   "outputs": [],
   "source": [
    "# area of complex space to investigate\n",
    "x1, x2, y1, y2 = -1.8, 1.8, -1.8, 1.8\n",
    "c_real, c_imag = -0.62772, -.42193"
   ]
  },
  {
   "cell_type": "code",
   "execution_count": 14,
   "id": "4967b1a1-790d-4fdd-8a0a-bd7bfbd6704a",
   "metadata": {},
   "outputs": [],
   "source": [
    "def show_greyscale(output_raw, width, height, max_iterations):\n",
    "    \"\"\"Convert list to array, show using PIL\"\"\"\n",
    "    # convert our output to PIL-compatible input\n",
    "    # scale to [0...255]\n",
    "    max_iterations = float(max(output_raw))\n",
    "    print(max_iterations)\n",
    "    scale_factor = float(max_iterations)\n",
    "    scaled = [int(o / scale_factor * 255) for o in output_raw]\n",
    "    output = array.array('B', scaled)  # array of unsigned ints\n",
    "    # display with PIL\n",
    "    im = Image.new(\"L\", (width, width))\n",
    "    # EXPLAIN RAW L 0 -1\n",
    "    im.frombytes(output.tobytes(), \"raw\", \"L\", 0, -1)\n",
    "    im.show()"
   ]
  },
  {
   "cell_type": "code",
   "execution_count": 15,
   "id": "6a41421c-6f0a-4ee0-aa33-b21483b317d4",
   "metadata": {},
   "outputs": [],
   "source": [
    "def show_false_greyscale(output_raw, width, height, max_iterations):\n",
    "    \"\"\"Convert list to array, show using PIL\"\"\"\n",
    "    # convert our output to PIL-compatible input\n",
    "    assert width * height == len(output_raw)  # sanity check our 1D array and desired 2D form\n",
    "    # rescale output_raw to be in the inclusive range [0..255]\n",
    "    max_value = float(max(output_raw))\n",
    "    output_raw_limited = [int(float(o) / max_value * 255) for o in output_raw]\n",
    "    # create a slightly fancy colour map that shows colour changes with\n",
    "    # increased contrast (thanks to John Montgomery)\n",
    "    output_rgb = ((o + (256 * o) + (256 ** 2) * o) * 16 for o in output_raw_limited)  # fancier\n",
    "    output_rgb = array.array('I', output_rgb)  # array of unsigned ints (size is platform specific)\n",
    "    # display with PIL/pillow\n",
    "    im = Image.new(\"RGB\", (width, height))\n",
    "    # EXPLAIN RGBX L 0 -1\n",
    "    im.frombytes(output_rgb.tobytes(), \"raw\", \"RGBX\", 0, -1)\n",
    "    im.show()"
   ]
  },
  {
   "cell_type": "code",
   "execution_count": 16,
   "id": "894b1ddc-1bdd-4963-a1b3-bd457b98e806",
   "metadata": {},
   "outputs": [],
   "source": [
    "def calculate_z_serial_purepython(maxiter, zs, cs):\n",
    "    \"\"\"Calculate output list using Julia update rule\"\"\"\n",
    "    output = [0] * len(zs)\n",
    "    for i in range(len(zs)):\n",
    "        n = 0\n",
    "        z = zs[i]\n",
    "        c = cs[i]\n",
    "        while abs(z) < 2 and n < maxiter:\n",
    "            z = z * z + c\n",
    "            n += 1\n",
    "        output[i] = n\n",
    "    return output"
   ]
  },
  {
   "cell_type": "code",
   "execution_count": 17,
   "id": "726e0db2-ad9e-4e5d-8fe3-0178f10db5d9",
   "metadata": {},
   "outputs": [],
   "source": [
    "def calc_pure_python(draw_output, desired_width, max_iterations):\n",
    "    \"\"\"Create a list of complex co-ordinates (zs) and complex parameters (cs), build Julia set and display\"\"\"\n",
    "    x_step = (x2 - x1) / desired_width\n",
    "    y_step = (y1 - y2) / desired_width\n",
    "    x = []\n",
    "    y = []\n",
    "    ycoord = y2\n",
    "    while ycoord > y1:\n",
    "        y.append(ycoord)\n",
    "        ycoord += y_step\n",
    "    xcoord = x1\n",
    "    while xcoord < x2:\n",
    "        x.append(xcoord)\n",
    "        xcoord += x_step\n",
    "    # set width and height to the generated pixel counts, rather than the\n",
    "    # pre-rounding desired width and height\n",
    "    width = len(x)\n",
    "    height = len(y)\n",
    "    # build a list of co-ordinates and the initial condition for each cell.\n",
    "    # Note that our initial condition is a constant and could easily be removed,\n",
    "    # we use it to simulate a real-world scenario with several inputs to our function\n",
    "    zs = []\n",
    "    cs = []\n",
    "    for ycoord in y:\n",
    "        for xcoord in x:\n",
    "            zs.append(complex(xcoord, ycoord))\n",
    "            cs.append(complex(c_real, c_imag))\n",
    "\n",
    "    print(\"Length of x:\", len(x))\n",
    "    print(\"Total elements:\", len(zs))\n",
    "    start_time = time.time()\n",
    "    output = calculate_z_serial_purepython(max_iterations, zs, cs)\n",
    "    end_time = time.time()\n",
    "    secs = end_time - start_time\n",
    "    print(calculate_z_serial_purepython.__name__ + \" took\", secs, \"seconds\")\n",
    "\n",
    "    assert sum(output) == 33219980  # this sum is expected for 1000^2 grid with 300 iterations\n",
    "\n",
    "    if draw_output:\n",
    "        #show_false_greyscale(output, width, height, max_iterations)\n",
    "        show_greyscale(output, width, height, max_iterations)"
   ]
  },
  {
   "cell_type": "code",
   "execution_count": 18,
   "id": "5c62cb54-6595-4f1c-8ce2-729b7bed80a3",
   "metadata": {},
   "outputs": [
    {
     "name": "stdout",
     "output_type": "stream",
     "text": [
      "Length of x: 1000\n",
      "Total elements: 1000000\n",
      "calculate_z_serial_purepython took 13.35534381866455 seconds\n",
      "300.0\n"
     ]
    }
   ],
   "source": [
    "if __name__ == \"__main__\":\n",
    "    # Calculate the Julia set using a pure Python solution with\n",
    "    # reasonable defaults for a laptop\n",
    "    # set draw_output to True to use PIL to draw an image\n",
    "    calc_pure_python(draw_output=True, desired_width=1000, max_iterations=300)"
   ]
  },
  {
   "cell_type": "code",
   "execution_count": null,
   "id": "02e350bc-7abe-4d6f-a5fe-67833740b399",
   "metadata": {},
   "outputs": [],
   "source": []
  }
 ],
 "metadata": {
  "kernelspec": {
   "display_name": "Python 3 (ipykernel)",
   "language": "python",
   "name": "python3"
  },
  "language_info": {
   "codemirror_mode": {
    "name": "ipython",
    "version": 3
   },
   "file_extension": ".py",
   "mimetype": "text/x-python",
   "name": "python",
   "nbconvert_exporter": "python",
   "pygments_lexer": "ipython3",
   "version": "3.12.5"
  }
 },
 "nbformat": 4,
 "nbformat_minor": 5
}
