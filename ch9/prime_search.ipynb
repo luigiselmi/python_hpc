{
 "cells": [
  {
   "cell_type": "markdown",
   "id": "7686be95-0394-42fa-832c-20f4d9a82d90",
   "metadata": {},
   "source": [
    "# Prime search\n",
    "In this notebook we want to factorize numbers, that is, we want to search for prime numbers. We split the search task to the CPU cores available. Once one prime number has been found by a process of a CPU core it must be communicated to the other cores, by interprocess communication (IPC), so that they can work on searching for other unknown primes. "
   ]
  },
  {
   "cell_type": "code",
   "execution_count": 4,
   "id": "e1f406c3-5a88-4d75-b42d-62260d13884f",
   "metadata": {},
   "outputs": [],
   "source": [
    "import math\n",
    "import time\n",
    "import timeit\n",
    "from multiprocessing import Pool\n",
    "import create_range"
   ]
  },
  {
   "cell_type": "markdown",
   "id": "5b927dd2-e62a-4262-a532-26917d17df47",
   "metadata": {},
   "source": [
    "## Serial prime search\n",
    "We use only one core to search for primes, within a range of numbers, one after the others. Once we found a prime factor we simply continue to look for primes in the complement factor that results from dividing the original number by the prime factor. In this strategy only one core is used and there is no need for communication."
   ]
  },
  {
   "cell_type": "code",
   "execution_count": 5,
   "id": "33021d86-4212-4e06-8b94-fe2e9cf89be9",
   "metadata": {},
   "outputs": [],
   "source": [
    "def check_prime(n):\n",
    "    if n % 2 == 0:\n",
    "        return False\n",
    "    for i in range(3, int(math.sqrt(n)) + 1, 2):\n",
    "        if n % i == 0:\n",
    "            return False\n",
    "    return True"
   ]
  },
  {
   "cell_type": "code",
   "execution_count": 7,
   "id": "9715402a-8de2-4f40-b75c-73ac02ada424",
   "metadata": {},
   "outputs": [
    {
     "data": {
      "text/plain": [
       "True"
      ]
     },
     "execution_count": 7,
     "metadata": {},
     "output_type": "execute_result"
    }
   ],
   "source": [
    "check_prime(101)"
   ]
  },
  {
   "cell_type": "code",
   "execution_count": 4,
   "id": "aec109d5-aa8f-4c29-852c-610be03f33ea",
   "metadata": {},
   "outputs": [
    {
     "name": "stdout",
     "output_type": "stream",
     "text": [
      "Took: 57.33\n",
      "54208 [100000007, 100000037, 100000039, 100000049, 100000073, 100000081, 100000123, 100000127, 100000193, 100000213] [100999889, 100999897, 100999901, 100999903, 100999919, 100999939, 100999949, 100999979, 100999981, 100999993]\n"
     ]
    }
   ],
   "source": [
    "primes = []\n",
    "t1 = time.time()\n",
    "#number_range = xrange(100000000, 100010000)  # A\n",
    "#number_range = xrange(100000000, 100100000)  # B\n",
    "number_range = range(100000000, 101000000)  # C\n",
    "#number_range = xrange(1000000000, 1000100000)  # D\n",
    "#number_range = xrange(100000000000, 100000100000)  # E\n",
    "\n",
    "for possible_prime in number_range:\n",
    "    if check_prime(possible_prime):\n",
    "        primes.append(possible_prime)\n",
    "exec_time = time.time() - t1\n",
    "print('Took: {:.2f}'.format(exec_time) )\n",
    "print(len(primes), primes[:10], primes[-10:])"
   ]
  },
  {
   "cell_type": "markdown",
   "id": "181b8235-7271-4a10-9efd-c5b3ae694923",
   "metadata": {},
   "source": [
    "## Naive pool prime search\n",
    "We split the range of numbers to search for primes and give one to the CPU core available "
   ]
  },
  {
   "cell_type": "code",
   "execution_count": 2,
   "id": "c427526a-1871-4b23-a8be-ad65b98daa35",
   "metadata": {},
   "outputs": [],
   "source": [
    "def check_prime_in_range(n_from_i_to_i):\n",
    "    (n, (from_i, to_i)) = n_from_i_to_i\n",
    "    if n % 2 == 0:\n",
    "        return False\n",
    "    assert from_i % 2 != 0\n",
    "    for i in range(from_i, int(to_i), 2):\n",
    "        if n % i == 0:\n",
    "            return False\n",
    "    return True\n",
    "\n",
    "\n",
    "def check_prime(n, pool, nbr_processes):\n",
    "    from_i = 3\n",
    "    to_i = int(math.sqrt(n)) + 1\n",
    "    ranges_to_check = create_range.create(from_i, to_i, nbr_processes)\n",
    "    ranges_to_check = list(zip(len(ranges_to_check) * [n], ranges_to_check))\n",
    "    assert len(ranges_to_check) == nbr_processes\n",
    "    results = pool.map(check_prime_in_range, ranges_to_check)\n",
    "    if False in results:\n",
    "        return False\n",
    "    return True"
   ]
  },
  {
   "cell_type": "code",
   "execution_count": null,
   "id": "6d82a9f5-517c-4bb9-8b04-939307a0db78",
   "metadata": {},
   "outputs": [],
   "source": [
    "primes = []\n",
    "NBR_PROCESSES = 4\n",
    "pool = multiprocessing.Pool(processes=NBR_PROCESSES)\n",
    "\n",
    "t1 = time.time()\n",
    "#number_range = xrange(100000000, 100010000)  # A\n",
    "#number_range = xrange(100000000, 100100000)  # B\n",
    "number_range = range(100000000, 101000000)  # C\n",
    "#number_range = xrange(1000000000, 1000100000)  # D\n",
    "#number_range = xrange(100000000000, 100000100000)  # E\n",
    "\n",
    "#are_primes = pool.map(check_prime, number_range)  # original\n",
    "#primes = np.array(number_range)[np.array(are_primes)]  # original\n",
    "#\n",
    "# note using pool.map is fastest, but uses ram\n",
    "# using pool.imap is slower but uses less ram\n",
    "# pool.imap_unordered is even slower\n",
    "are_primes = pool.map(check_prime, number_range)\n",
    "primes = [p for p in itertools.compress(number_range, are_primes)]\n",
    "exec_time = time.time() - t1\n",
    "print('Took: {:.2f}'.format(exec_time) )\n",
    "print(len(primes), primes[:10], primes[-10:])"
   ]
  },
  {
   "cell_type": "code",
   "execution_count": null,
   "id": "6de3bcaa-22e0-4e9d-ae73-43eb7f26f2c5",
   "metadata": {},
   "outputs": [
    {
     "name": "stdout",
     "output_type": "stream",
     "text": [
      "Testing with 4 processes\n"
     ]
    }
   ],
   "source": [
    "NBR_PROCESSES = 4\n",
    "pool = Pool(processes=NBR_PROCESSES)\n",
    "#import pdb; pdb.set_trace()\n",
    "print(\"Testing with {} processes\".format(NBR_PROCESSES))\n",
    "for label, nbr in [(\"trivial non-prime\", 112272535095295),\n",
    "                       (\"expensive non-prime18_1\", 100109100129100369),\n",
    "                       (\"expensive non-prime18_2\", 100109100129101027),\n",
    "                       #(\"prime\", 112272535095293)]:  # 15\n",
    "                       #(\"prime17\",  10000000002065383)]\n",
    "                       (\"prime18_1\", 100109100129100151),\n",
    "                       (\"prime18_2\", 100109100129162907)]:\n",
    "                       #(\"prime23\", 22360679774997896964091)]:\n",
    "        time_costs = timeit.repeat(stmt=\"check_prime({}, pool, {})\".format(nbr, NBR_PROCESSES), repeat=20, number=1,\n",
    "                                   setup=\"from __main__ import pool, check_prime\")\n",
    "        print(\"{:19} ({}) {: 3.6f}s\".format(label, nbr, min(time_costs)))"
   ]
  },
  {
   "cell_type": "code",
   "execution_count": null,
   "id": "b031e727-2107-4788-a8e4-76210c8de4d0",
   "metadata": {},
   "outputs": [],
   "source": []
  }
 ],
 "metadata": {
  "kernelspec": {
   "display_name": "Python 3 (ipykernel)",
   "language": "python",
   "name": "python3"
  },
  "language_info": {
   "codemirror_mode": {
    "name": "ipython",
    "version": 3
   },
   "file_extension": ".py",
   "mimetype": "text/x-python",
   "name": "python",
   "nbconvert_exporter": "python",
   "pygments_lexer": "ipython3",
   "version": "3.12.5"
  }
 },
 "nbformat": 4,
 "nbformat_minor": 5
}
