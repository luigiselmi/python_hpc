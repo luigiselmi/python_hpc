{
 "cells": [
  {
   "cell_type": "markdown",
   "id": "600c8c3d-0831-4016-b350-b00e68f67545",
   "metadata": {},
   "source": [
    "# Lists and tuples\n",
    "List and tuples are the two collections available in pure Python. A list can be expanded and reduced and its items are mutable. A tuple is an immutable collection. Python stores data in these collections by reference so that they can store any type of data. The references to he items in a collection are stored as integers in consecutive memory cells."
   ]
  },
  {
   "cell_type": "code",
   "execution_count": 1,
   "id": "4baddfa3-7f5f-4941-bf34-47f5932db9ea",
   "metadata": {},
   "outputs": [],
   "source": [
    "import bisect\n",
    "import random"
   ]
  },
  {
   "cell_type": "code",
   "execution_count": 2,
   "id": "a83259a2-94e8-46c6-8e63-d01259b1e3d6",
   "metadata": {},
   "outputs": [
    {
     "name": "stdout",
     "output_type": "stream",
     "text": [
      "0) 0\n",
      "1) 4\n",
      "2) 7\n",
      "3) -2\n",
      "4) Rome\n",
      "5) c\n"
     ]
    }
   ],
   "source": [
    "l = [0, 4, 7, -2, 'Rome', 'c']\n",
    "for index, value in enumerate(l):\n",
    "    print('{:d}) {:}'.format(index, value))"
   ]
  },
  {
   "cell_type": "markdown",
   "id": "7e5b4574-6aaa-4301-8145-d915175d6c5d",
   "metadata": {},
   "source": [
    "## Linear search\n",
    "If we do not know where an item is stored in a list we have to look for it. The time complexity of such search is linear in the size of the list, that is O(n)."
   ]
  },
  {
   "cell_type": "code",
   "execution_count": 3,
   "id": "4823fa46-2de2-4e3f-947e-996f1ddd7eb7",
   "metadata": {},
   "outputs": [],
   "source": [
    "def linear_search(needle, array):\n",
    "    for i, item in enumerate(array):\n",
    "        if item == needle:\n",
    "            return i\n",
    "    return -1"
   ]
  },
  {
   "cell_type": "code",
   "execution_count": 4,
   "id": "25fb9f27-04bf-44cd-a616-5f6a0a1c238b",
   "metadata": {},
   "outputs": [
    {
     "data": {
      "text/plain": [
       "4"
      ]
     },
     "execution_count": 4,
     "metadata": {},
     "output_type": "execute_result"
    }
   ],
   "source": [
    "linear_search('Rome', l)"
   ]
  },
  {
   "cell_type": "markdown",
   "id": "261b9eb9-7e8c-4140-aea1-477eb0a03510",
   "metadata": {},
   "source": [
    "We can use a built-in method to perform the search"
   ]
  },
  {
   "cell_type": "code",
   "execution_count": 5,
   "id": "e59eaa46-b2e6-46e7-b1e5-2929d889d6a3",
   "metadata": {},
   "outputs": [
    {
     "data": {
      "text/plain": [
       "4"
      ]
     },
     "execution_count": 5,
     "metadata": {},
     "output_type": "execute_result"
    }
   ],
   "source": [
    "l.index('Rome')"
   ]
  },
  {
   "cell_type": "markdown",
   "id": "d2ac4682-1aa8-4d9f-9418-012a8cfddd59",
   "metadata": {},
   "source": [
    "## Binary search\n",
    "We can reduce the time complexity of linear search by ordering the elements in the list by some criterion, e.g. alphabetic order"
   ]
  },
  {
   "cell_type": "code",
   "execution_count": 19,
   "id": "dac95e1b-5087-4d46-b378-7cb7e8c7d480",
   "metadata": {},
   "outputs": [],
   "source": [
    "def binary_search(needle, haystack):\n",
    "    '''\n",
    "    The input list must contain an ordered set \n",
    "    of different numbers.\n",
    "    '''\n",
    "    imin, imax = 0, len(haystack)\n",
    "    while True:\n",
    "        if imin > imax:\n",
    "            return -1\n",
    "        midpoint = (imin + imax) // 2\n",
    "        if haystack[midpoint] > needle:\n",
    "            imax = midpoint\n",
    "        elif haystack[midpoint] < needle:\n",
    "            imin = midpoint+1\n",
    "        else:\n",
    "            return midpoint"
   ]
  },
  {
   "cell_type": "code",
   "execution_count": 16,
   "id": "479dca53-a2ff-427a-95b2-251393edb999",
   "metadata": {},
   "outputs": [],
   "source": [
    "l = [2, 7, 5, 1, 0, -3, 9, 10]"
   ]
  },
  {
   "cell_type": "code",
   "execution_count": 17,
   "id": "a822e10d-efca-46e2-95f1-2f6c93bf512d",
   "metadata": {},
   "outputs": [
    {
     "data": {
      "text/plain": [
       "[-3, 0, 1, 2, 5, 7, 9, 10]"
      ]
     },
     "execution_count": 17,
     "metadata": {},
     "output_type": "execute_result"
    }
   ],
   "source": [
    "l.sort()\n",
    "l"
   ]
  },
  {
   "cell_type": "code",
   "execution_count": 18,
   "id": "ab8e637f-76e3-4a84-b164-6487197c817e",
   "metadata": {},
   "outputs": [
    {
     "data": {
      "text/plain": [
       "5"
      ]
     },
     "execution_count": 18,
     "metadata": {},
     "output_type": "execute_result"
    }
   ],
   "source": [
    "binary_search(7, l)"
   ]
  },
  {
   "cell_type": "markdown",
   "id": "b2301b79-a5f7-4827-842b-6e1623b2fdaf",
   "metadata": {},
   "source": [
    "### Closest number\n",
    "We can use the Python [bisect](https://docs.python.org/3/library/bisect.html#) module to look for a number in a list"
   ]
  },
  {
   "cell_type": "code",
   "execution_count": 20,
   "id": "661ab352-ea74-4263-a53f-4baaa76da02f",
   "metadata": {},
   "outputs": [],
   "source": [
    "def find_closest(haystack, needle):\n",
    "    # bisect.bisect_left will return the first value in the haystack\n",
    "    # that is greater than the needle\n",
    "    i = bisect.bisect_left(haystack, needle)\n",
    "    if i == len(haystack):\n",
    "        return i - 1\n",
    "    elif haystack[i] == needle:\n",
    "        return i\n",
    "    elif i > 0:\n",
    "        j = i - 1\n",
    "    # since we know the value is larger than needle (and vice versa for the\n",
    "    # value at j), we don't need to use absolute values here\n",
    "    if haystack[i] - needle > needle - haystack[j]:\n",
    "        return j\n",
    "    return i"
   ]
  },
  {
   "cell_type": "code",
   "execution_count": 21,
   "id": "89bb268e-8d09-43da-912a-72ff4dd463f7",
   "metadata": {},
   "outputs": [],
   "source": [
    "l = [2, 7, 5, 1, 0, -3, 9, 10]"
   ]
  },
  {
   "cell_type": "code",
   "execution_count": 26,
   "id": "a4e924e7-888c-4a16-b236-142022389760",
   "metadata": {},
   "outputs": [
    {
     "data": {
      "text/plain": [
       "9"
      ]
     },
     "execution_count": 26,
     "metadata": {},
     "output_type": "execute_result"
    }
   ],
   "source": [
    "l[find_closest(l, 8)]"
   ]
  },
  {
   "cell_type": "code",
   "execution_count": null,
   "id": "d952e80e-47b3-4a77-a2f5-e05f3d347666",
   "metadata": {},
   "outputs": [],
   "source": []
  }
 ],
 "metadata": {
  "kernelspec": {
   "display_name": "Python 3 (ipykernel)",
   "language": "python",
   "name": "python3"
  },
  "language_info": {
   "codemirror_mode": {
    "name": "ipython",
    "version": 3
   },
   "file_extension": ".py",
   "mimetype": "text/x-python",
   "name": "python",
   "nbconvert_exporter": "python",
   "pygments_lexer": "ipython3",
   "version": "3.12.5"
  }
 },
 "nbformat": 4,
 "nbformat_minor": 5
}
