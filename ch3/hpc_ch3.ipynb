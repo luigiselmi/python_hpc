{
 "cells": [
  {
   "cell_type": "markdown",
   "id": "600c8c3d-0831-4016-b350-b00e68f67545",
   "metadata": {},
   "source": [
    "# Lists and tuples\n",
    "List and tuples are the two collections available in pure Python. A list can be expanded and reduced and its items can be of mixed types and are mutable. A tuple is an immutable collection of elements of mixed types. Python stores data in these collections by reference so that they can store any type of data. The references to he items in a collection are stored as integers in consecutive memory cells."
   ]
  },
  {
   "cell_type": "code",
   "execution_count": 1,
   "id": "4baddfa3-7f5f-4941-bf34-47f5932db9ea",
   "metadata": {},
   "outputs": [],
   "source": [
    "import bisect\n",
    "import random"
   ]
  },
  {
   "cell_type": "code",
   "execution_count": 2,
   "id": "a83259a2-94e8-46c6-8e63-d01259b1e3d6",
   "metadata": {},
   "outputs": [
    {
     "name": "stdout",
     "output_type": "stream",
     "text": [
      "0) 0\n",
      "1) 4\n",
      "2) 7\n",
      "3) -2\n",
      "4) Rome\n",
      "5) c\n"
     ]
    }
   ],
   "source": [
    "l = [0, 4, 7, -2, 'Rome', 'c']\n",
    "for index, value in enumerate(l):\n",
    "    print('{:d}) {:}'.format(index, value))"
   ]
  },
  {
   "cell_type": "markdown",
   "id": "7e5b4574-6aaa-4301-8145-d915175d6c5d",
   "metadata": {},
   "source": [
    "## Linear search\n",
    "If we do not know where an item is stored in a list we have to look for it. The time complexity of such search is linear in the size of the list, that is O(n)."
   ]
  },
  {
   "cell_type": "code",
   "execution_count": 3,
   "id": "4823fa46-2de2-4e3f-947e-996f1ddd7eb7",
   "metadata": {},
   "outputs": [],
   "source": [
    "def linear_search(needle, array):\n",
    "    for i, item in enumerate(array):\n",
    "        if item == needle:\n",
    "            return i\n",
    "    return -1"
   ]
  },
  {
   "cell_type": "code",
   "execution_count": 4,
   "id": "25fb9f27-04bf-44cd-a616-5f6a0a1c238b",
   "metadata": {},
   "outputs": [
    {
     "data": {
      "text/plain": [
       "4"
      ]
     },
     "execution_count": 4,
     "metadata": {},
     "output_type": "execute_result"
    }
   ],
   "source": [
    "linear_search('Rome', l)"
   ]
  },
  {
   "cell_type": "markdown",
   "id": "261b9eb9-7e8c-4140-aea1-477eb0a03510",
   "metadata": {},
   "source": [
    "We can use a built-in method to perform the search"
   ]
  },
  {
   "cell_type": "code",
   "execution_count": 5,
   "id": "e59eaa46-b2e6-46e7-b1e5-2929d889d6a3",
   "metadata": {},
   "outputs": [
    {
     "data": {
      "text/plain": [
       "4"
      ]
     },
     "execution_count": 5,
     "metadata": {},
     "output_type": "execute_result"
    }
   ],
   "source": [
    "l.index('Rome')"
   ]
  },
  {
   "cell_type": "markdown",
   "id": "d2ac4682-1aa8-4d9f-9418-012a8cfddd59",
   "metadata": {},
   "source": [
    "## Binary search\n",
    "We can reduce the time complexity of linear search by ordering the elements in the list by some criterion, e.g. alphabetic order"
   ]
  },
  {
   "cell_type": "code",
   "execution_count": 6,
   "id": "dac95e1b-5087-4d46-b378-7cb7e8c7d480",
   "metadata": {},
   "outputs": [],
   "source": [
    "def binary_search(needle, haystack):\n",
    "    '''\n",
    "    The input list must contain an ordered set \n",
    "    of different numbers.\n",
    "    '''\n",
    "    imin, imax = 0, len(haystack)\n",
    "    while True:\n",
    "        if imin > imax:\n",
    "            return -1\n",
    "        midpoint = (imin + imax) // 2\n",
    "        if haystack[midpoint] > needle:\n",
    "            imax = midpoint\n",
    "        elif haystack[midpoint] < needle:\n",
    "            imin = midpoint+1\n",
    "        else:\n",
    "            return midpoint"
   ]
  },
  {
   "cell_type": "code",
   "execution_count": 7,
   "id": "479dca53-a2ff-427a-95b2-251393edb999",
   "metadata": {},
   "outputs": [],
   "source": [
    "l = [2, 7, 5, 1, 0, -3, 9, 10]"
   ]
  },
  {
   "cell_type": "code",
   "execution_count": 8,
   "id": "a822e10d-efca-46e2-95f1-2f6c93bf512d",
   "metadata": {},
   "outputs": [
    {
     "data": {
      "text/plain": [
       "[-3, 0, 1, 2, 5, 7, 9, 10]"
      ]
     },
     "execution_count": 8,
     "metadata": {},
     "output_type": "execute_result"
    }
   ],
   "source": [
    "l.sort()\n",
    "l"
   ]
  },
  {
   "cell_type": "code",
   "execution_count": 9,
   "id": "ab8e637f-76e3-4a84-b164-6487197c817e",
   "metadata": {},
   "outputs": [
    {
     "data": {
      "text/plain": [
       "5"
      ]
     },
     "execution_count": 9,
     "metadata": {},
     "output_type": "execute_result"
    }
   ],
   "source": [
    "binary_search(7, l)"
   ]
  },
  {
   "cell_type": "markdown",
   "id": "b2301b79-a5f7-4827-842b-6e1623b2fdaf",
   "metadata": {},
   "source": [
    "### Closest number\n",
    "We can use the Python [bisect](https://docs.python.org/3/library/bisect.html#) module to look for a number in a list"
   ]
  },
  {
   "cell_type": "code",
   "execution_count": 10,
   "id": "661ab352-ea74-4263-a53f-4baaa76da02f",
   "metadata": {},
   "outputs": [],
   "source": [
    "def find_closest(haystack, needle):\n",
    "    # bisect.bisect_left will return the first value in the haystack\n",
    "    # that is greater than the needle\n",
    "    i = bisect.bisect_left(haystack, needle)\n",
    "    if i == len(haystack):\n",
    "        return i - 1\n",
    "    elif haystack[i] == needle:\n",
    "        return i\n",
    "    elif i > 0:\n",
    "        j = i - 1\n",
    "    # since we know the value is larger than needle (and vice versa for the\n",
    "    # value at j), we don't need to use absolute values here\n",
    "    if haystack[i] - needle > needle - haystack[j]:\n",
    "        return j\n",
    "    return i"
   ]
  },
  {
   "cell_type": "code",
   "execution_count": 11,
   "id": "89bb268e-8d09-43da-912a-72ff4dd463f7",
   "metadata": {},
   "outputs": [],
   "source": [
    "l = [2, 7, 5, 1, 0, -3, 9, 10]"
   ]
  },
  {
   "cell_type": "code",
   "execution_count": 12,
   "id": "a4e924e7-888c-4a16-b236-142022389760",
   "metadata": {},
   "outputs": [
    {
     "data": {
      "text/plain": [
       "9"
      ]
     },
     "execution_count": 12,
     "metadata": {},
     "output_type": "execute_result"
    }
   ],
   "source": [
    "l[find_closest(l, 8)]"
   ]
  },
  {
   "cell_type": "markdown",
   "id": "77a3f4f8-2a68-437c-8fa1-9168bf0a6dcc",
   "metadata": {},
   "source": [
    "## List memory usage\n",
    "We test the use of memory to create a list of integer with a list comprehension and using the append() method."
   ]
  },
  {
   "cell_type": "code",
   "execution_count": 15,
   "id": "b2d6c524-dae9-4643-86f1-fd1f76853840",
   "metadata": {},
   "outputs": [],
   "source": [
    "%load_ext memory_profiler"
   ]
  },
  {
   "cell_type": "code",
   "execution_count": 16,
   "id": "d952e80e-47b3-4a77-a2f5-e05f3d347666",
   "metadata": {},
   "outputs": [
    {
     "name": "stdout",
     "output_type": "stream",
     "text": [
      "peak memory: 73.66 MiB, increment: 1.37 MiB\n"
     ]
    }
   ],
   "source": [
    "%memit [i*i for i in range(100_000)]"
   ]
  },
  {
   "cell_type": "code",
   "execution_count": 17,
   "id": "d99d19ff-b389-49ef-8084-4539ede6d0c3",
   "metadata": {},
   "outputs": [
    {
     "name": "stdout",
     "output_type": "stream",
     "text": [
      "peak memory: 75.38 MiB, increment: 3.41 MiB\n"
     ]
    }
   ],
   "source": [
    "%%memit l = []\n",
    "for i in range(100_000):\n",
    "    l.append(i * 2)"
   ]
  },
  {
   "cell_type": "markdown",
   "id": "3845f696-1b22-4b5d-ad19-43086a8e3b60",
   "metadata": {},
   "source": [
    "## List time complexity\n",
    "We test the time needed to create a list of integer with a list comprehension and using the append() method."
   ]
  },
  {
   "cell_type": "code",
   "execution_count": 18,
   "id": "7203c5af-c759-4909-afdc-750c39c9334d",
   "metadata": {},
   "outputs": [
    {
     "name": "stdout",
     "output_type": "stream",
     "text": [
      "10.8 ms ± 223 μs per loop (mean ± std. dev. of 7 runs, 100 loops each)\n"
     ]
    }
   ],
   "source": [
    "%timeit [i*i for i in range(100_000)]"
   ]
  },
  {
   "cell_type": "code",
   "execution_count": 19,
   "id": "fa84feab-9621-41cb-aa16-d5a9181c0a29",
   "metadata": {},
   "outputs": [
    {
     "name": "stdout",
     "output_type": "stream",
     "text": [
      "18.2 ms ± 1.41 ms per loop (mean ± std. dev. of 7 runs, 10 loops each)\n"
     ]
    }
   ],
   "source": [
    "%%timeit l = []\n",
    "for i in range(100_000):\n",
    "    l.append(i * 2)"
   ]
  },
  {
   "cell_type": "markdown",
   "id": "0471063d-7ca4-4a0a-9677-b1f468dd3423",
   "metadata": {},
   "source": [
    "## Tuples\n",
    "A tuple is a collection of unmutable objects. Since a tuple is a static collection it brings less overhead, in particular when using a large collection of numbers or objects."
   ]
  },
  {
   "cell_type": "code",
   "execution_count": 20,
   "id": "7900e9c7-a6b2-4ea0-8670-5af882b3f60a",
   "metadata": {},
   "outputs": [],
   "source": [
    "t = (1, 3, 5, -1, 0, 9)"
   ]
  },
  {
   "cell_type": "code",
   "execution_count": 21,
   "id": "2be35b70-cf3f-42bc-8b67-16c3acbaaa57",
   "metadata": {},
   "outputs": [
    {
     "data": {
      "text/plain": [
       "5"
      ]
     },
     "execution_count": 21,
     "metadata": {},
     "output_type": "execute_result"
    }
   ],
   "source": [
    "t[2]"
   ]
  },
  {
   "cell_type": "code",
   "execution_count": 22,
   "id": "6477db8d-1113-40aa-9bd0-3b44cc87a592",
   "metadata": {},
   "outputs": [
    {
     "ename": "TypeError",
     "evalue": "'tuple' object does not support item assignment",
     "output_type": "error",
     "traceback": [
      "\u001b[1;31m---------------------------------------------------------------------------\u001b[0m",
      "\u001b[1;31mTypeError\u001b[0m                                 Traceback (most recent call last)",
      "Cell \u001b[1;32mIn[22], line 1\u001b[0m\n\u001b[1;32m----> 1\u001b[0m \u001b[43mt\u001b[49m\u001b[43m[\u001b[49m\u001b[38;5;241;43m2\u001b[39;49m\u001b[43m]\u001b[49m \u001b[38;5;241m=\u001b[39m \u001b[38;5;241m7\u001b[39m\n",
      "\u001b[1;31mTypeError\u001b[0m: 'tuple' object does not support item assignment"
     ]
    }
   ],
   "source": [
    "t[2] = 7"
   ]
  },
  {
   "cell_type": "markdown",
   "id": "fe334f59-3498-4599-afbd-586a4420ff2c",
   "metadata": {},
   "source": [
    "Tuples cannot be resized but they can be concateneted. The result is a new tuple that contains the two original ones. "
   ]
  },
  {
   "cell_type": "code",
   "execution_count": 23,
   "id": "d775915a-5954-4b3e-b7b8-168f0a86e299",
   "metadata": {},
   "outputs": [
    {
     "data": {
      "text/plain": [
       "(1, 2, 3, 4, 4, 5, 6, 7)"
      ]
     },
     "execution_count": 23,
     "metadata": {},
     "output_type": "execute_result"
    }
   ],
   "source": [
    "t1 = (1, 2, 3, 4)\n",
    "t2 = (4, 5, 6, 7)\n",
    "t1 + t2"
   ]
  },
  {
   "cell_type": "markdown",
   "id": "c5921763-718f-42e7-966f-33cf96a6bb82",
   "metadata": {},
   "source": [
    "Instantiating a collection of number as a list takes more than 3 times the time required to instantiate a tuple"
   ]
  },
  {
   "cell_type": "code",
   "execution_count": 24,
   "id": "a927ad42-abb5-44ab-adeb-5e484614dd35",
   "metadata": {},
   "outputs": [
    {
     "name": "stdout",
     "output_type": "stream",
     "text": [
      "132 ns ± 13.5 ns per loop (mean ± std. dev. of 7 runs, 1,000,000 loops each)\n"
     ]
    }
   ],
   "source": [
    "%timeit l = [0, 1, 2, 3, 4, 5, 6, 7, 8, 9]"
   ]
  },
  {
   "cell_type": "code",
   "execution_count": 25,
   "id": "ec1fa53e-3433-4f79-ab82-26f73dc354e3",
   "metadata": {},
   "outputs": [
    {
     "name": "stdout",
     "output_type": "stream",
     "text": [
      "38.8 ns ± 3.52 ns per loop (mean ± std. dev. of 7 runs, 10,000,000 loops each)\n"
     ]
    }
   ],
   "source": [
    "%timeit t = (0, 1, 2, 3, 4, 5, 6, 7, 8, 9)"
   ]
  },
  {
   "cell_type": "code",
   "execution_count": null,
   "id": "6f7ef7d8-2d2f-4aff-8e01-1410bb5e4392",
   "metadata": {},
   "outputs": [],
   "source": []
  }
 ],
 "metadata": {
  "kernelspec": {
   "display_name": "Python 3 (ipykernel)",
   "language": "python",
   "name": "python3"
  },
  "language_info": {
   "codemirror_mode": {
    "name": "ipython",
    "version": 3
   },
   "file_extension": ".py",
   "mimetype": "text/x-python",
   "name": "python",
   "nbconvert_exporter": "python",
   "pygments_lexer": "ipython3",
   "version": "3.12.5"
  }
 },
 "nbformat": 4,
 "nbformat_minor": 5
}
