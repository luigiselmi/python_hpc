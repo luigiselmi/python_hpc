{
  "cells": [
    {
      "cell_type": "markdown",
      "metadata": {
        "id": "view-in-github",
        "colab_type": "text"
      },
      "source": [
        "<a href=\"https://colab.research.google.com/github/luigiselmi/python_hpc/blob/main/ch7/diffusion_pytorch.ipynb\" target=\"_parent\"><img src=\"https://colab.research.google.com/assets/colab-badge.svg\" alt=\"Open In Colab\"/></a>"
      ]
    },
    {
      "cell_type": "markdown",
      "id": "1618d981-e949-4692-8ef6-97924db4fd8d",
      "metadata": {
        "id": "1618d981-e949-4692-8ef6-97924db4fd8d"
      },
      "source": [
        "# Solving the diffusion equation using PyTorch\n",
        "We use a PyTorch tensor to store the grid and compute the output of the diffusione equation at the grid points.\n",
        "We write again the diffusion equation\n",
        "\n",
        "$$ \\frac{\\partial u(x, t)}{\\partial t} = D \\nabla^2 u(x, t)$$\n",
        "\n",
        "where D is the diffusion coefficient and $\\nabla^2$ is the Laplacian operator."
      ]
    },
    {
      "cell_type": "code",
      "execution_count": 1,
      "id": "22fd0de1-ac8e-40b2-9d98-35414f1bac13",
      "metadata": {
        "id": "22fd0de1-ac8e-40b2-9d98-35414f1bac13"
      },
      "outputs": [],
      "source": [
        "import time\n",
        "from functools import partial\n",
        "import matplotlib.pyplot as plt\n",
        "import torch\n",
        "from torch import roll, zeros"
      ]
    },
    {
      "cell_type": "code",
      "execution_count": 2,
      "id": "ab7c70a8-fcfc-482d-9448-e30e563646db",
      "metadata": {
        "id": "ab7c70a8-fcfc-482d-9448-e30e563646db"
      },
      "outputs": [],
      "source": [
        "DEVICE = torch.device(\"cuda:0\" if torch.cuda.is_available() else \"cpu\")\n",
        "GRID_SHAPE = (2048, 2048)"
      ]
    },
    {
      "cell_type": "code",
      "source": [
        "!nvidia-smi"
      ],
      "metadata": {
        "id": "h5eK11LXKOpo",
        "outputId": "5de311c7-c7df-4594-fb94-c372abc0e513",
        "colab": {
          "base_uri": "https://localhost:8080/"
        }
      },
      "id": "h5eK11LXKOpo",
      "execution_count": 4,
      "outputs": [
        {
          "output_type": "stream",
          "name": "stdout",
          "text": [
            "Tue Sep 16 15:33:42 2025       \n",
            "+-----------------------------------------------------------------------------------------+\n",
            "| NVIDIA-SMI 550.54.15              Driver Version: 550.54.15      CUDA Version: 12.4     |\n",
            "|-----------------------------------------+------------------------+----------------------+\n",
            "| GPU  Name                 Persistence-M | Bus-Id          Disp.A | Volatile Uncorr. ECC |\n",
            "| Fan  Temp   Perf          Pwr:Usage/Cap |           Memory-Usage | GPU-Util  Compute M. |\n",
            "|                                         |                        |               MIG M. |\n",
            "|=========================================+========================+======================|\n",
            "|   0  Tesla T4                       Off |   00000000:00:04.0 Off |                    0 |\n",
            "| N/A   64C    P8             11W /   70W |       2MiB /  15360MiB |      0%      Default |\n",
            "|                                         |                        |                  N/A |\n",
            "+-----------------------------------------+------------------------+----------------------+\n",
            "                                                                                         \n",
            "+-----------------------------------------------------------------------------------------+\n",
            "| Processes:                                                                              |\n",
            "|  GPU   GI   CI        PID   Type   Process name                              GPU Memory |\n",
            "|        ID   ID                                                               Usage      |\n",
            "|=========================================================================================|\n",
            "|  No running processes found                                                             |\n",
            "+-----------------------------------------------------------------------------------------+\n"
          ]
        }
      ]
    },
    {
      "cell_type": "code",
      "execution_count": 5,
      "id": "85ebd39a-6e5a-4790-9c6d-544ec5f3c454",
      "metadata": {
        "id": "85ebd39a-6e5a-4790-9c6d-544ec5f3c454"
      },
      "outputs": [],
      "source": [
        "def timer(fxn, max_time=5):\n",
        "    N = 0\n",
        "    total_time = 0\n",
        "    fxn()  # prime the pump\n",
        "    while total_time < max_time:\n",
        "        start = time.perf_counter()\n",
        "        fxn()\n",
        "        total_time += time.perf_counter() - start\n",
        "        N += 1\n",
        "    return total_time / N"
      ]
    },
    {
      "cell_type": "code",
      "execution_count": 6,
      "id": "4afdbff3-4388-4b53-b23a-50f1dbfd4eda",
      "metadata": {
        "id": "4afdbff3-4388-4b53-b23a-50f1dbfd4eda"
      },
      "outputs": [],
      "source": [
        "def init_grid(grid_shape):\n",
        "    grid = zeros(grid_shape)\n",
        "    block_low = int(grid_shape[0] * 0.4)\n",
        "    block_high = int(grid_shape[0] * 0.5)\n",
        "    grid[block_low:block_high, block_low:block_high] = 0.005\n",
        "    return grid"
      ]
    },
    {
      "cell_type": "code",
      "execution_count": 7,
      "id": "750ac9c9-ec70-4d75-a785-1b120744a26f",
      "metadata": {
        "id": "750ac9c9-ec70-4d75-a785-1b120744a26f"
      },
      "outputs": [],
      "source": [
        "def laplacian(grid):\n",
        "    return (\n",
        "        roll(grid, +1, 0) +\n",
        "        roll(grid, -1, 0) +\n",
        "        roll(grid, +1, 1) +\n",
        "        roll(grid, -1, 1) -\n",
        "        4 * grid\n",
        "    )"
      ]
    },
    {
      "cell_type": "code",
      "execution_count": 8,
      "id": "1cbdeaa6-2b2a-4702-be7c-30ee872d4e61",
      "metadata": {
        "id": "1cbdeaa6-2b2a-4702-be7c-30ee872d4e61"
      },
      "outputs": [],
      "source": [
        "def evolve(grid, dt, D=1):\n",
        "    return grid + dt * D * laplacian(grid)"
      ]
    },
    {
      "cell_type": "code",
      "execution_count": 49,
      "id": "79db2093-ceb6-4dc3-8cf4-f7fcdb6e843f",
      "metadata": {
        "id": "79db2093-ceb6-4dc3-8cf4-f7fcdb6e843f"
      },
      "outputs": [],
      "source": [
        "def run_experiment(num_iterations, grid_shape=GRID_SHAPE, device=DEVICE):\n",
        "    start_time = time.time()\n",
        "    grid = init_grid(grid_shape)\n",
        "    for i in range(num_iterations):\n",
        "        grid = evolve(grid, 0.1) # local computation on cpu\n",
        "    exec_time = time.time() - start_time\n",
        "    return grid, exec_time"
      ]
    },
    {
      "cell_type": "code",
      "execution_count": 52,
      "id": "dca66e63-1a42-4d97-adff-14ddc6105347",
      "metadata": {
        "id": "dca66e63-1a42-4d97-adff-14ddc6105347"
      },
      "outputs": [],
      "source": [
        "def debug_cpu_onboard(num_iterations, grid_shape=GRID_SHAPE, device=DEVICE):\n",
        "    start_time = time.time()\n",
        "    grid = init_grid(grid_shape)\n",
        "    grid = grid.to(device)  # sends the grid to the gpu for computation if available\n",
        "    for i in range(num_iterations):\n",
        "        grid = evolve(grid, 0.1)\n",
        "        torch.cuda.synchronize() # ?\n",
        "    exec_time = time.time() - start_time\n",
        "    return grid, exec_time"
      ]
    },
    {
      "cell_type": "code",
      "execution_count": 53,
      "id": "f456a1f4-dea1-42a5-a0d5-218d068660b0",
      "metadata": {
        "id": "f456a1f4-dea1-42a5-a0d5-218d068660b0"
      },
      "outputs": [],
      "source": [
        "def debug_cpu_copy(num_iterations, grid_shape=GRID_SHAPE, device=DEVICE):\n",
        "    start_time = time.time()\n",
        "    grid = init_grid(grid_shape)\n",
        "    grid = grid.to(device)  # <3>\n",
        "    for i in range(num_iterations):\n",
        "        grid = evolve(grid, 0.1)\n",
        "        grid.cpu() # send a copy to the cpu\n",
        "    exec_time = time.time() - start_time\n",
        "    return grid, exec_time"
      ]
    },
    {
      "cell_type": "markdown",
      "source": [
        "If we use the GPU we have to copy the tensor to host memory first like in example 2."
      ],
      "metadata": {
        "id": "z77NyDm8MWYT"
      },
      "id": "z77NyDm8MWYT"
    },
    {
      "cell_type": "code",
      "execution_count": null,
      "id": "d389e418-b4ba-4f52-bbe5-5df5ff5eb6e8",
      "metadata": {
        "id": "d389e418-b4ba-4f52-bbe5-5df5ff5eb6e8"
      },
      "outputs": [],
      "source": [
        "if __name__ == \"__main__\":\n",
        "    grid_shape = (4096, 4096)\n",
        "    num_iterations = 1000\n",
        "    diffuse_grid_cpu, exec_time = run_experiment(num_iterations, grid_shape=grid_shape)\n",
        "    print('1. Execution time: {:.2f} sec.'.format(exec_time))\n",
        "    diffuse_grid, exec_time = debug_cpu_onboard(num_iterations, grid_shape=grid_shape)\n",
        "    print('2. Execution time: {:.2f} sec.'.format(exec_time))\n",
        "    diffuse_grid_gpu, exec_time = debug_cpu_copy(num_iterations, grid_shape=grid_shape)\n",
        "    print('3. Execution time: {:.2f} sec.'.format(exec_time))"
      ]
    },
    {
      "cell_type": "code",
      "source": [
        "diffuse_grid_cpu_copy = diffuse_grid.cpu()"
      ],
      "metadata": {
        "id": "65sjXgMcO9UA"
      },
      "id": "65sjXgMcO9UA",
      "execution_count": 20,
      "outputs": []
    },
    {
      "cell_type": "code",
      "execution_count": 45,
      "id": "86ec171a-6fa3-4dac-8e0e-270aeff8b984",
      "metadata": {
        "id": "86ec171a-6fa3-4dac-8e0e-270aeff8b984",
        "outputId": "8b798248-22d4-4a11-8b2e-86cc8257d670",
        "colab": {
          "base_uri": "https://localhost:8080/",
          "height": 452
        }
      },
      "outputs": [
        {
          "output_type": "execute_result",
          "data": {
            "text/plain": [
              "<matplotlib.image.AxesImage at 0x79a330719af0>"
            ]
          },
          "metadata": {},
          "execution_count": 45
        },
        {
          "output_type": "display_data",
          "data": {
            "text/plain": [
              "<Figure size 640x480 with 1 Axes>"
            ],
            "image/png": "[encoded data removed]"
          },
          "metadata": {}
        }
      ],
      "source": [
        "plt.imshow(diffuse_grid_cpu_copy[1500:2200, 1500:-1900], cmap='gray')"
      ]
    },
    {
      "cell_type": "code",
      "execution_count": 47,
      "id": "60e1cc6b-099a-44fc-b0b3-7a68b849f2f9",
      "metadata": {
        "id": "60e1cc6b-099a-44fc-b0b3-7a68b849f2f9",
        "outputId": "957df7b9-f265-4443-87b4-cc6df1b36ec9",
        "colab": {
          "base_uri": "https://localhost:8080/",
          "height": 469
        }
      },
      "outputs": [
        {
          "output_type": "execute_result",
          "data": {
            "text/plain": [
              "[<matplotlib.lines.Line2D at 0x79a330182300>]"
            ]
          },
          "metadata": {},
          "execution_count": 47
        },
        {
          "output_type": "display_data",
          "data": {
            "text/plain": [
              "<Figure size 640x480 with 1 Axes>"
            ],
            "image/png": "[encoded data removed]"
          },
          "metadata": {}
        }
      ],
      "source": [
        "grid = init_grid(grid_shape)\n",
        "diffuse_grid_x = diffuse_grid_cpu_copy[1800,:]\n",
        "x = torch.arange(0, diffuse_grid_x.shape[0])\n",
        "plt.title('Slice of the diffusion process in the x direction after 5*10^3 iterations')\n",
        "plt.plot(x, grid[1800,:])\n",
        "plt.plot(x, diffuse_grid_x)"
      ]
    },
    {
      "cell_type": "code",
      "execution_count": null,
      "id": "6133bc43-995b-4d02-be04-22e5ef556305",
      "metadata": {
        "id": "6133bc43-995b-4d02-be04-22e5ef556305"
      },
      "outputs": [],
      "source": []
    }
  ],
  "metadata": {
    "kernelspec": {
      "display_name": "Python 3",
      "name": "python3"
    },
    "language_info": {
      "codemirror_mode": {
        "name": "ipython",
        "version": 3
      },
      "file_extension": ".py",
      "mimetype": "text/x-python",
      "name": "python",
      "nbconvert_exporter": "python",
      "pygments_lexer": "ipython3",
      "version": "3.12.5"
    },
    "colab": {
      "provenance": [],
      "gpuType": "T4",
      "include_colab_link": true
    },
    "accelerator": "GPU"
  },
  "nbformat": 4,
  "nbformat_minor": 5
}