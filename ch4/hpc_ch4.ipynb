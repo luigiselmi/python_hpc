{
 "cells": [
  {
   "cell_type": "markdown",
   "id": "f1461724-cb8a-4a02-969c-6694343fdf41",
   "metadata": {},
   "source": [
    "# Dictionaries and sets\n",
    "A dictionary is a symbol table: a collection of objects in which each object is associated to a key. A dictionary can be expanded and reduced. A set in Python is a mutable unordered collection of unique keys. Several operation can be performed on sets, for instance union and intersection. With dictionaries there is no need to search for an element in the collection, as when using a list, we have just to use its key. "
   ]
  },
  {
   "cell_type": "markdown",
   "id": "5966118d-8daa-4fb3-8146-16aafe1e0fb3",
   "metadata": {},
   "source": [
    "## Hash function\n",
    "Both dictionaries and sets are based on hash tables. The key is used to compute an index using an hash function. A hash function returns an integer given a key, e.g. a string, that is guaranteed to have the least probability of a collision with another key. The low collision probability of an hash function is a consequence of the size of the integer space used to implement it compared to the size of the space of the keys. A hash function should handle collisions and return a different integer in case of a collision when calculating the hash value of a key."
   ]
  },
  {
   "cell_type": "code",
   "execution_count": 1,
   "id": "3c9bb207-693f-4004-a8df-a5e35c3e2ba6",
   "metadata": {},
   "outputs": [
    {
     "data": {
      "text/plain": [
       "-3355136106873060009"
      ]
     },
     "execution_count": 1,
     "metadata": {},
     "output_type": "execute_result"
    }
   ],
   "source": [
    "hash('John Doe')"
   ]
  },
  {
   "cell_type": "code",
   "execution_count": 2,
   "id": "f09009be-1e60-4b18-a63e-87c694e616e8",
   "metadata": {},
   "outputs": [
    {
     "data": {
      "text/plain": [
       "2938172440763455204"
      ]
     },
     "execution_count": 2,
     "metadata": {},
     "output_type": "execute_result"
    }
   ],
   "source": [
    "hash_value = hash('John Dowe')\n",
    "hash_value"
   ]
  },
  {
   "cell_type": "markdown",
   "id": "c09b5e96-5431-4dff-bbea-92c5aafa9523",
   "metadata": {},
   "source": [
    "The binary form of the hash value is"
   ]
  },
  {
   "cell_type": "code",
   "execution_count": 3,
   "id": "37e3d27a-df31-4360-9724-157716a79e46",
   "metadata": {},
   "outputs": [
    {
     "data": {
      "text/plain": [
       "'0b10100011000110011111000100010010001100100011000101011011100100'"
      ]
     },
     "execution_count": 3,
     "metadata": {},
     "output_type": "execute_result"
    }
   ],
   "source": [
    "bin(hash_value)"
   ]
  },
  {
   "cell_type": "markdown",
   "id": "fa5fb70e-61ff-4725-bfce-7cccbc4e2aeb",
   "metadata": {},
   "source": [
    "We can mask (i.e. filter) the bits, starting from the last, for example we want only the last three bits of the hash value, since this is 010 the result is 2"
   ]
  },
  {
   "cell_type": "code",
   "execution_count": 4,
   "id": "990087cd-70cb-42be-bf3d-967a7c54637e",
   "metadata": {},
   "outputs": [],
   "source": [
    "mask = 0b111"
   ]
  },
  {
   "cell_type": "code",
   "execution_count": 5,
   "id": "43fe2e5c-89d0-4499-9717-a173dac64b6c",
   "metadata": {},
   "outputs": [
    {
     "data": {
      "text/plain": [
       "4"
      ]
     },
     "execution_count": 5,
     "metadata": {},
     "output_type": "execute_result"
    }
   ],
   "source": [
    "hash_value & mask"
   ]
  },
  {
   "cell_type": "code",
   "execution_count": 6,
   "id": "bb66cfb2-6a79-4337-9a8e-983dc1c01284",
   "metadata": {},
   "outputs": [
    {
     "name": "stdout",
     "output_type": "stream",
     "text": [
      "74\n",
      "111\n",
      "104\n",
      "110\n",
      "32\n",
      "68\n",
      "111\n",
      "101\n"
     ]
    }
   ],
   "source": [
    "for c in 'John Doe':\n",
    "    print(ord(c))"
   ]
  },
  {
   "cell_type": "markdown",
   "id": "b653ae09-742e-43c0-9dc8-4826cf47c223",
   "metadata": {},
   "source": [
    "We implement a trivial hash function that returns the alphabetical index of the first character of a string, for example the name of a city, masked to use only the last three bits."
   ]
  },
  {
   "cell_type": "code",
   "execution_count": 7,
   "id": "da050fed-447b-4b6e-8989-e010de5e7907",
   "metadata": {},
   "outputs": [],
   "source": [
    "class City(str):\n",
    "    def __hash__(self):\n",
    "        return ord(self[0]) & 0b111"
   ]
  },
  {
   "cell_type": "code",
   "execution_count": 8,
   "id": "0cf9d28c-a801-49d8-a1bf-e3d1b9b8ca4e",
   "metadata": {},
   "outputs": [],
   "source": [
    "data = {\n",
    "    City(\"Rome\"): 'Italy',\n",
    "    City(\"San Francisco\"): 'USA',\n",
    "    City(\"New York\"): 'USA',\n",
    "    City(\"Barcelona\"): 'Spain',\n",
    "}"
   ]
  },
  {
   "cell_type": "markdown",
   "id": "05903672-ddf0-44ed-ad60-c329fe110812",
   "metadata": {},
   "source": [
    "Both Barcelona and Rome share the same hash index. We need to use more than three bits to handle the 4 cities in the dictionary"
   ]
  },
  {
   "cell_type": "code",
   "execution_count": 20,
   "id": "1d72cea9-1f75-4071-a289-a85aefa2756d",
   "metadata": {},
   "outputs": [
    {
     "data": {
      "text/plain": [
       "2"
      ]
     },
     "execution_count": 20,
     "metadata": {},
     "output_type": "execute_result"
    }
   ],
   "source": [
    "City('Barcelona').__hash__()"
   ]
  },
  {
   "cell_type": "code",
   "execution_count": 22,
   "id": "2a923610-557c-4144-a499-d32b97636649",
   "metadata": {},
   "outputs": [
    {
     "data": {
      "text/plain": [
       "2"
      ]
     },
     "execution_count": 22,
     "metadata": {},
     "output_type": "execute_result"
    }
   ],
   "source": [
    "City('Rome').__hash__()"
   ]
  },
  {
   "cell_type": "markdown",
   "id": "7cf72a1f-83cc-451f-9de0-d68303a04e13",
   "metadata": {},
   "source": [
    "Python can handle collisions of the values returned by the hash function, so even if the keys 'Rome' and 'Barcelona' collide the dictionary works fine all the same."
   ]
  },
  {
   "cell_type": "code",
   "execution_count": 23,
   "id": "9eb7e67b-eaa1-43ee-8f95-a1470ed9f0a9",
   "metadata": {},
   "outputs": [
    {
     "data": {
      "text/plain": [
       "'Italy'"
      ]
     },
     "execution_count": 23,
     "metadata": {},
     "output_type": "execute_result"
    }
   ],
   "source": [
    "data[City('Rome')]"
   ]
  },
  {
   "cell_type": "code",
   "execution_count": 24,
   "id": "5c535b23-7266-4a71-87ed-00ac5b373a42",
   "metadata": {},
   "outputs": [
    {
     "data": {
      "text/plain": [
       "'Spain'"
      ]
     },
     "execution_count": 24,
     "metadata": {},
     "output_type": "execute_result"
    }
   ],
   "source": [
    "data[City('Barcelona')]"
   ]
  },
  {
   "cell_type": "markdown",
   "id": "3cf7ffe4-025a-49c9-b005-0195739273bb",
   "metadata": {},
   "source": [
    "## Dictionaries"
   ]
  },
  {
   "cell_type": "code",
   "execution_count": 1,
   "id": "898e3e5b-be62-4030-a011-5e5b99e46724",
   "metadata": {},
   "outputs": [],
   "source": [
    "phonebook = {\n",
    "    \"John Doe\": \"555-555-5555\",\n",
    "    \"Albert Einstein\" : \"212-555-5555\",\n",
    "}"
   ]
  },
  {
   "cell_type": "code",
   "execution_count": 2,
   "id": "e6c71aed-a291-4bc7-bacb-6c6434dc3373",
   "metadata": {},
   "outputs": [
    {
     "name": "stdout",
     "output_type": "stream",
     "text": [
      "John Doe's phone number is 555-555-5555\n"
     ]
    }
   ],
   "source": [
    "print(f\"John Doe's phone number is {phonebook['John Doe']}\")"
   ]
  },
  {
   "cell_type": "markdown",
   "id": "ff8fe000-384f-4902-a1fe-1578e8bfdfe5",
   "metadata": {},
   "source": [
    "## Sets"
   ]
  },
  {
   "cell_type": "code",
   "execution_count": 3,
   "id": "5bf085d3-3f7f-4afc-a3e2-552ddddab122",
   "metadata": {},
   "outputs": [],
   "source": [
    "s1 = {1, 2, 3, 'a', 'b'}\n",
    "s2 = {'Rome', 'Paris', 1, 4}"
   ]
  },
  {
   "cell_type": "markdown",
   "id": "84ff763b-591f-4a53-bab1-d44eff8c1227",
   "metadata": {},
   "source": [
    "### Union of two sets"
   ]
  },
  {
   "cell_type": "code",
   "execution_count": 4,
   "id": "bc4aa683-3198-4add-ba00-fd163090a213",
   "metadata": {},
   "outputs": [
    {
     "data": {
      "text/plain": [
       "{1, 2, 3, 4, 'Paris', 'Rome', 'a', 'b'}"
      ]
     },
     "execution_count": 4,
     "metadata": {},
     "output_type": "execute_result"
    }
   ],
   "source": [
    "s3 = s1 | s2\n",
    "s3"
   ]
  },
  {
   "cell_type": "code",
   "execution_count": 5,
   "id": "857cb69b-b26d-4b67-868a-979e903ded86",
   "metadata": {},
   "outputs": [
    {
     "data": {
      "text/plain": [
       "4459383324764636963"
      ]
     },
     "execution_count": 5,
     "metadata": {},
     "output_type": "execute_result"
    }
   ],
   "source": [
    "hash('luigi')"
   ]
  },
  {
   "cell_type": "markdown",
   "id": "3544cf1d-b5f4-4c17-8ca3-69e6f53fb5b2",
   "metadata": {},
   "source": [
    "## References\n",
    "* [What happens when you mess with hashing in python](https://www.asmeurer.com/blog/posts/what-happens-when-you-mess-with-hashing-in-python/)"
   ]
  },
  {
   "cell_type": "code",
   "execution_count": null,
   "id": "29fc5ce8-5561-4e8b-9d68-aa9271988626",
   "metadata": {},
   "outputs": [],
   "source": []
  }
 ],
 "metadata": {
  "kernelspec": {
   "display_name": "Python 3 (ipykernel)",
   "language": "python",
   "name": "python3"
  },
  "language_info": {
   "codemirror_mode": {
    "name": "ipython",
    "version": 3
   },
   "file_extension": ".py",
   "mimetype": "text/x-python",
   "name": "python",
   "nbconvert_exporter": "python",
   "pygments_lexer": "ipython3",
   "version": "3.12.5"
  }
 },
 "nbformat": 4,
 "nbformat_minor": 5
}
