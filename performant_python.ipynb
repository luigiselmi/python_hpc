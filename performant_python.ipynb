{
 "cells": [
  {
   "cell_type": "markdown",
   "id": "83c7d8ad-36cf-4b44-a935-79d2442baa1a",
   "metadata": {},
   "source": [
    "# Performant Python"
   ]
  },
  {
   "cell_type": "code",
   "execution_count": 1,
   "id": "b005de12-e096-4cce-8bb9-4e6cfc76333c",
   "metadata": {},
   "outputs": [],
   "source": [
    "import math"
   ]
  },
  {
   "cell_type": "code",
   "execution_count": 2,
   "id": "f432eb24-fbfc-4c51-b7dc-3105c65715a1",
   "metadata": {},
   "outputs": [],
   "source": [
    "def check_prime(number):\n",
    "    sqrt_number = math.sqrt(number)\n",
    "    for i in range(2, int(sqrt_number) + 1):\n",
    "        if (number / i).is_integer():\n",
    "            return False\n",
    "        return True"
   ]
  },
  {
   "cell_type": "code",
   "execution_count": 3,
   "id": "5ad9e6f7-6d16-45b0-a6d9-6640a0eb9ca9",
   "metadata": {},
   "outputs": [
    {
     "name": "stdout",
     "output_type": "stream",
     "text": [
      "check_prime(10,000,000) = False\n",
      "check_prime(10,000,019) = True\n"
     ]
    }
   ],
   "source": [
    "print(f\"check_prime(10,000,000) = {check_prime(10_000_000)}\")\n",
    "# check_prime(10,000,000) = False\n",
    "print(f\"check_prime(10,000,019) = {check_prime(10_000_019)}\")\n",
    "# check_prime(10,000,019) = True"
   ]
  },
  {
   "cell_type": "code",
   "execution_count": null,
   "id": "bc978580-aa4e-4e8c-977e-5ff7e93fc67d",
   "metadata": {},
   "outputs": [],
   "source": []
  }
 ],
 "metadata": {
  "kernelspec": {
   "display_name": "Python 3 (ipykernel)",
   "language": "python",
   "name": "python3"
  },
  "language_info": {
   "codemirror_mode": {
    "name": "ipython",
    "version": 3
   },
   "file_extension": ".py",
   "mimetype": "text/x-python",
   "name": "python",
   "nbconvert_exporter": "python",
   "pygments_lexer": "ipython3",
   "version": "3.12.5"
  }
 },
 "nbformat": 4,
 "nbformat_minor": 5
}
