{
 "cells": [
  {
   "cell_type": "markdown",
   "id": "0c045b27-21e3-4156-94a1-bb71d5d2014a",
   "metadata": {},
   "source": [
    "# Iterators and generators\n",
    "A generator allows us to get an element from a collection without first loading the full collection in memory. They are more relevant as the size of the collection or of the objects to be stored in it increases. "
   ]
  },
  {
   "cell_type": "code",
   "execution_count": 1,
   "id": "4f0a1fa2-dd50-4e21-bc77-5a047704e06c",
   "metadata": {},
   "outputs": [],
   "source": [
    "def fibonacci_list(num_items):\n",
    "    numbers = []\n",
    "    a, b = 0, 1\n",
    "    while len(numbers) < num_items:\n",
    "        numbers.append(a)\n",
    "        a, b = b, a+b\n",
    "    return numbers"
   ]
  },
  {
   "cell_type": "code",
   "execution_count": 2,
   "id": "bbc98a69-a711-43d8-a19f-9cc23435f399",
   "metadata": {},
   "outputs": [
    {
     "data": {
      "text/plain": [
       "[0, 1, 1, 2, 3, 5, 8, 13, 21, 34]"
      ]
     },
     "execution_count": 2,
     "metadata": {},
     "output_type": "execute_result"
    }
   ],
   "source": [
    "fibonacci_list(10)"
   ]
  },
  {
   "cell_type": "code",
   "execution_count": 8,
   "id": "bf18ebef-1dd7-48e6-8080-d6361dd127dc",
   "metadata": {},
   "outputs": [
    {
     "data": {
      "text/plain": [
       "list"
      ]
     },
     "execution_count": 8,
     "metadata": {},
     "output_type": "execute_result"
    }
   ],
   "source": [
    "type(fibonacci_list(10))"
   ]
  },
  {
   "cell_type": "code",
   "execution_count": 3,
   "id": "87057373-f165-4c37-8229-4a2a268f5985",
   "metadata": {},
   "outputs": [],
   "source": [
    "def fibonacci_gen(num_items):\n",
    "    a, b = 0, 1\n",
    "    while num_items:\n",
    "        yield a\n",
    "        a, b = b, a+b\n",
    "        num_items -= 1"
   ]
  },
  {
   "cell_type": "code",
   "execution_count": 7,
   "id": "b706cf16-d749-4cd5-a08a-3baaaf1588d8",
   "metadata": {},
   "outputs": [
    {
     "name": "stdout",
     "output_type": "stream",
     "text": [
      "0\n",
      "1\n",
      "1\n",
      "2\n",
      "3\n",
      "5\n",
      "8\n",
      "13\n",
      "21\n",
      "34\n"
     ]
    }
   ],
   "source": [
    "for f in fibonacci_gen(10):\n",
    "    print(f);"
   ]
  },
  {
   "cell_type": "code",
   "execution_count": 9,
   "id": "072cf25d-a32f-4814-af06-566010cc13f1",
   "metadata": {},
   "outputs": [
    {
     "data": {
      "text/plain": [
       "generator"
      ]
     },
     "execution_count": 9,
     "metadata": {},
     "output_type": "execute_result"
    }
   ],
   "source": [
    "type(fibonacci_gen(10))"
   ]
  },
  {
   "cell_type": "markdown",
   "id": "71c51921-acfb-44df-8931-877a5872f131",
   "metadata": {},
   "source": [
    "## Memory usage and time complexity\n",
    "Loading a list to be used for a loop operator more expensive than using a generator both in terms of memory and time. The trade-off is that we cannot reference an element in a generator and we cannot know the number of elements in it. We can do a test using a function to compute the number of fibonacci numbers that are divisible by three."
   ]
  },
  {
   "cell_type": "code",
   "execution_count": 14,
   "id": "37d5bbbe-a06f-463b-ac8b-2c6415bfcdcf",
   "metadata": {},
   "outputs": [
    {
     "data": {
      "text/plain": [
       "25000"
      ]
     },
     "execution_count": 14,
     "metadata": {},
     "output_type": "execute_result"
    }
   ],
   "source": [
    "len([n for n in fibonacci_gen(100_000) if n % 3 == 0])"
   ]
  },
  {
   "cell_type": "code",
   "execution_count": 15,
   "id": "e635f9d3-9938-4d41-9e06-5f6a7566d823",
   "metadata": {},
   "outputs": [
    {
     "data": {
      "text/plain": [
       "25000"
      ]
     },
     "execution_count": 15,
     "metadata": {},
     "output_type": "execute_result"
    }
   ],
   "source": [
    "len([n for n in fibonacci_list(100_000) if n % 3 == 0])"
   ]
  },
  {
   "cell_type": "code",
   "execution_count": 11,
   "id": "da3390a4-20a6-4bf1-ab8f-1bbda319b0cf",
   "metadata": {},
   "outputs": [],
   "source": [
    "%load_ext memory_profiler"
   ]
  },
  {
   "cell_type": "code",
   "execution_count": 12,
   "id": "4baa3b17-b093-49c5-bce7-f5cca4d25de2",
   "metadata": {},
   "outputs": [
    {
     "name": "stdout",
     "output_type": "stream",
     "text": [
      "peak memory: 203.15 MiB, increment: 117.39 MiB\n"
     ]
    }
   ],
   "source": [
    "%memit len([n for n in fibonacci_gen(100_000) if n % 3 == 0])"
   ]
  },
  {
   "cell_type": "code",
   "execution_count": 13,
   "id": "7f2f74a8-1eb5-467e-8d99-eecf3a690697",
   "metadata": {},
   "outputs": [
    {
     "name": "stdout",
     "output_type": "stream",
     "text": [
      "peak memory: 551.49 MiB, increment: 464.07 MiB\n"
     ]
    }
   ],
   "source": [
    "%memit len([n for n in fibonacci_list(100_000) if n % 3 == 0])"
   ]
  },
  {
   "cell_type": "code",
   "execution_count": 16,
   "id": "8852420b-95c0-4c79-b4f1-ac296b8aceb6",
   "metadata": {},
   "outputs": [
    {
     "name": "stdout",
     "output_type": "stream",
     "text": [
      "2.31 s ± 139 ms per loop (mean ± std. dev. of 7 runs, 1 loop each)\n"
     ]
    }
   ],
   "source": [
    "%timeit len([n for n in fibonacci_list(100_000) if n % 3 == 0])"
   ]
  },
  {
   "cell_type": "code",
   "execution_count": 17,
   "id": "2475e794-e1e9-4051-b17b-91bce0c44c30",
   "metadata": {},
   "outputs": [
    {
     "name": "stdout",
     "output_type": "stream",
     "text": [
      "1.97 s ± 94.3 ms per loop (mean ± std. dev. of 7 runs, 1 loop each)\n"
     ]
    }
   ],
   "source": [
    "%timeit len([n for n in fibonacci_gen(100_000) if n % 3 == 0])"
   ]
  },
  {
   "cell_type": "code",
   "execution_count": null,
   "id": "a3568543-074b-44d6-9f59-7343be8baa68",
   "metadata": {},
   "outputs": [],
   "source": []
  }
 ],
 "metadata": {
  "kernelspec": {
   "display_name": "Python 3 (ipykernel)",
   "language": "python",
   "name": "python3"
  },
  "language_info": {
   "codemirror_mode": {
    "name": "ipython",
    "version": 3
   },
   "file_extension": ".py",
   "mimetype": "text/x-python",
   "name": "python",
   "nbconvert_exporter": "python",
   "pygments_lexer": "ipython3",
   "version": "3.12.5"
  }
 },
 "nbformat": 4,
 "nbformat_minor": 5
}
