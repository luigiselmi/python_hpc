{
 "cells": [
  {
   "cell_type": "markdown",
   "id": "0c045b27-21e3-4156-94a1-bb71d5d2014a",
   "metadata": {},
   "source": [
    "# Iterators and generators\n",
    "A generator allows us to get an element from a collection without first loading the full collection in memory. They are more relevant as the size of the collection or of the objects to be stored in it increases, so they are a useful tool to handle long time series or sequences that cannot be stored in memory. "
   ]
  },
  {
   "cell_type": "code",
   "execution_count": 41,
   "id": "eef3b446-570d-4934-a948-50f4b29d2664",
   "metadata": {},
   "outputs": [],
   "source": [
    "from random import normalvariate, randint\n",
    "from itertools import count\n",
    "from datetime import datetime\n",
    "from itertools import groupby\n",
    "from itertools import filterfalse\n",
    "from itertools import islice\n",
    "from scipy.stats import normaltest\n",
    "from datetime import datetime"
   ]
  },
  {
   "cell_type": "code",
   "execution_count": 2,
   "id": "4f0a1fa2-dd50-4e21-bc77-5a047704e06c",
   "metadata": {},
   "outputs": [],
   "source": [
    "def fibonacci_list(num_items):\n",
    "    numbers = []\n",
    "    a, b = 0, 1\n",
    "    while len(numbers) < num_items:\n",
    "        numbers.append(a)\n",
    "        a, b = b, a+b\n",
    "    return numbers"
   ]
  },
  {
   "cell_type": "code",
   "execution_count": 3,
   "id": "bbc98a69-a711-43d8-a19f-9cc23435f399",
   "metadata": {},
   "outputs": [
    {
     "data": {
      "text/plain": [
       "[0, 1, 1, 2, 3, 5, 8, 13, 21, 34]"
      ]
     },
     "execution_count": 3,
     "metadata": {},
     "output_type": "execute_result"
    }
   ],
   "source": [
    "fibonacci_list(10)"
   ]
  },
  {
   "cell_type": "code",
   "execution_count": 4,
   "id": "bf18ebef-1dd7-48e6-8080-d6361dd127dc",
   "metadata": {},
   "outputs": [
    {
     "data": {
      "text/plain": [
       "list"
      ]
     },
     "execution_count": 4,
     "metadata": {},
     "output_type": "execute_result"
    }
   ],
   "source": [
    "type(fibonacci_list(10))"
   ]
  },
  {
   "cell_type": "markdown",
   "id": "6817fede-ebf6-4b85-a2e5-f574c7be254d",
   "metadata": {},
   "source": [
    "We define a generator function that produces (yields) a Fibonacci's number"
   ]
  },
  {
   "cell_type": "code",
   "execution_count": 38,
   "id": "87057373-f165-4c37-8229-4a2a268f5985",
   "metadata": {},
   "outputs": [],
   "source": [
    "def fibonacci_gen(num_items):\n",
    "    a, b = 0, 1\n",
    "    while num_items:\n",
    "        yield a\n",
    "        a, b = b, a+b\n",
    "        num_items -= 1"
   ]
  },
  {
   "cell_type": "code",
   "execution_count": 39,
   "id": "b706cf16-d749-4cd5-a08a-3baaaf1588d8",
   "metadata": {},
   "outputs": [
    {
     "name": "stdout",
     "output_type": "stream",
     "text": [
      "0\n",
      "1\n",
      "1\n",
      "2\n",
      "3\n",
      "5\n",
      "8\n",
      "13\n",
      "21\n",
      "34\n"
     ]
    }
   ],
   "source": [
    "for f in fibonacci_gen(10):\n",
    "    print(f);"
   ]
  },
  {
   "cell_type": "code",
   "execution_count": 7,
   "id": "072cf25d-a32f-4814-af06-566010cc13f1",
   "metadata": {},
   "outputs": [
    {
     "data": {
      "text/plain": [
       "generator"
      ]
     },
     "execution_count": 7,
     "metadata": {},
     "output_type": "execute_result"
    }
   ],
   "source": [
    "type(fibonacci_gen(10))"
   ]
  },
  {
   "cell_type": "markdown",
   "id": "71c51921-acfb-44df-8931-877a5872f131",
   "metadata": {},
   "source": [
    "## Memory usage and time complexity\n",
    "Loading a list to be used for a loop operator more expensive than using a generator both in terms of memory and time. The trade-off is that we cannot reference an element in a generator and we cannot know the number of elements in it. We can do a test using a function to compute the number of fibonacci numbers that are divisible by three."
   ]
  },
  {
   "cell_type": "code",
   "execution_count": 8,
   "id": "37d5bbbe-a06f-463b-ac8b-2c6415bfcdcf",
   "metadata": {},
   "outputs": [
    {
     "data": {
      "text/plain": [
       "25000"
      ]
     },
     "execution_count": 8,
     "metadata": {},
     "output_type": "execute_result"
    }
   ],
   "source": [
    "len([n for n in fibonacci_gen(100_000) if n % 3 == 0])"
   ]
  },
  {
   "cell_type": "code",
   "execution_count": 9,
   "id": "e635f9d3-9938-4d41-9e06-5f6a7566d823",
   "metadata": {},
   "outputs": [
    {
     "data": {
      "text/plain": [
       "25000"
      ]
     },
     "execution_count": 9,
     "metadata": {},
     "output_type": "execute_result"
    }
   ],
   "source": [
    "len([n for n in fibonacci_list(100_000) if n % 3 == 0])"
   ]
  },
  {
   "cell_type": "code",
   "execution_count": 10,
   "id": "da3390a4-20a6-4bf1-ab8f-1bbda319b0cf",
   "metadata": {},
   "outputs": [],
   "source": [
    "%load_ext memory_profiler"
   ]
  },
  {
   "cell_type": "code",
   "execution_count": 11,
   "id": "4baa3b17-b093-49c5-bce7-f5cca4d25de2",
   "metadata": {},
   "outputs": [
    {
     "name": "stdout",
     "output_type": "stream",
     "text": [
      "peak memory: 237.30 MiB, increment: 116.78 MiB\n"
     ]
    }
   ],
   "source": [
    "%memit len([n for n in fibonacci_gen(100_000) if n % 3 == 0])"
   ]
  },
  {
   "cell_type": "code",
   "execution_count": 12,
   "id": "7f2f74a8-1eb5-467e-8d99-eecf3a690697",
   "metadata": {},
   "outputs": [
    {
     "name": "stdout",
     "output_type": "stream",
     "text": [
      "peak memory: 585.56 MiB, increment: 463.68 MiB\n"
     ]
    }
   ],
   "source": [
    "%memit len([n for n in fibonacci_list(100_000) if n % 3 == 0])"
   ]
  },
  {
   "cell_type": "code",
   "execution_count": 13,
   "id": "8852420b-95c0-4c79-b4f1-ac296b8aceb6",
   "metadata": {},
   "outputs": [
    {
     "name": "stdout",
     "output_type": "stream",
     "text": [
      "2.77 s ± 354 ms per loop (mean ± std. dev. of 7 runs, 1 loop each)\n"
     ]
    }
   ],
   "source": [
    "%timeit len([n for n in fibonacci_list(100_000) if n % 3 == 0])"
   ]
  },
  {
   "cell_type": "code",
   "execution_count": 14,
   "id": "2475e794-e1e9-4051-b17b-91bce0c44c30",
   "metadata": {},
   "outputs": [
    {
     "name": "stdout",
     "output_type": "stream",
     "text": [
      "2 s ± 108 ms per loop (mean ± std. dev. of 7 runs, 1 loop each)\n"
     ]
    }
   ],
   "source": [
    "%timeit len([n for n in fibonacci_gen(100_000) if n % 3 == 0])"
   ]
  },
  {
   "cell_type": "markdown",
   "id": "adfe058f-b8ab-4cb1-a8bc-a3552425b26c",
   "metadata": {},
   "source": [
    "## Operations with generators\n",
    "Generators can be used to simulate infinite sets. The [itertools](https://docs.python.org/3/library/itertools.html) module allows to create infinite iterator, chaining two generators, and set a condition to end an iterator. In order to experiment with such operator we simulate a random process using a generator function that simulate reading a long time series of pairs (timestamp, value) in order to see whether some data points in a day don't follow the normal distribution. In this notebook we will use a generator that doesn't really read a file but one that randomly creates the pairs (timestamp, value). "
   ]
  },
  {
   "cell_type": "code",
   "execution_count": 15,
   "id": "2c8b6b86-228e-4766-aad7-6beea7d3592b",
   "metadata": {},
   "outputs": [],
   "source": [
    "#def read_data(filename):\n",
    "#    with open(filename) as fd:\n",
    "#        for line in fd:\n",
    "#            data = line.strip().split(',')\n",
    "#            timestamp, value = map(int, data)\n",
    "#            yield datetime.fromtimestamp(timestamp), value"
   ]
  },
  {
   "cell_type": "markdown",
   "id": "f125c34e-0423-412c-bef9-311e2bb5eebe",
   "metadata": {},
   "source": [
    "### Random process simulation\n",
    "We simulate a random process by defining a function that loops indefinitely using the built-in function [count()](https://docs.python.org/3/library/itertools.html#itertools.count) that returns a natural number every time it is called. A value is created each time, taken from a normal distribution, and after a week, i.e 604000 seconds or loops, the function outputs a value 100 that is clearly outside of the normal distribution. The output of the function are tuple pairs (timestamp, value)  "
   ]
  },
  {
   "cell_type": "code",
   "execution_count": 21,
   "id": "b42acd8f-c926-493b-8dbf-624ae7ea320d",
   "metadata": {},
   "outputs": [],
   "source": [
    "def read_fake_data(filename):\n",
    "    for timestamp in count():\n",
    "        # We insert an anomalous data point approximately once a week\n",
    "        if randint(0, 7 * 60 * 60 * 24 - 1) == 1:\n",
    "            value = normalvariate(0, 1)\n",
    "        else:\n",
    "            value = 100\n",
    "        yield datetime.fromtimestamp(timestamp), value"
   ]
  },
  {
   "cell_type": "code",
   "execution_count": 22,
   "id": "a5684d49-8569-4224-9443-ecc0cacacdd2",
   "metadata": {},
   "outputs": [],
   "source": [
    "def groupby_day(iterable):\n",
    "    key = lambda row: row[0].day\n",
    "    for day, data_group in groupby(iterable, key):\n",
    "        yield list(data_group)"
   ]
  },
  {
   "cell_type": "code",
   "execution_count": 23,
   "id": "baf94396-de2f-43b5-a2a6-895ab09bbb2c",
   "metadata": {},
   "outputs": [],
   "source": [
    "def is_normal(data, threshold=1e-3):\n",
    "    _, values = zip(*data) # unpack the data tuples\n",
    "    k2, p_value = normaltest(values)\n",
    "    if p_value < threshold:\n",
    "        return False\n",
    "    return True"
   ]
  },
  {
   "cell_type": "markdown",
   "id": "8151f1ac-0b47-43f8-840c-ddb780711182",
   "metadata": {},
   "source": [
    "This function returns a generator with only the groups of data points that are not normally distributed"
   ]
  },
  {
   "cell_type": "code",
   "execution_count": 24,
   "id": "a90be9e2-edaa-4137-aeb3-e56083144f71",
   "metadata": {},
   "outputs": [],
   "source": [
    "def filter_anomalous_groups(data):\n",
    "    yield from filterfalse(is_normal, data)"
   ]
  },
  {
   "cell_type": "code",
   "execution_count": 25,
   "id": "6031dc04-7048-45bb-93d0-d86eb4f9a542",
   "metadata": {},
   "outputs": [],
   "source": [
    "def filter_anomalous_data(data):\n",
    "    data_group = groupby_day(data)\n",
    "    yield from filter_anomalous_groups(data_group)"
   ]
  },
  {
   "cell_type": "markdown",
   "id": "7cd3dfe0-4ac9-4774-8e65-a51f5a439243",
   "metadata": {},
   "source": [
    "We start to collect the first (fake) data points from the source that do not belong to a normal distribution"
   ]
  },
  {
   "cell_type": "code",
   "execution_count": 36,
   "id": "08acc039-d754-43fb-95b4-9c46afd39c14",
   "metadata": {},
   "outputs": [],
   "source": [
    "data = read_fake_data('filename')\n",
    "anomaly_generator = filter_anomalous_data(data)\n",
    "first_anomalies = islice(anomaly_generator, 10)"
   ]
  },
  {
   "cell_type": "markdown",
   "id": "5a05a6dd-e66b-4ecc-bb63-6fb24fae4c83",
   "metadata": {},
   "source": [
    "We print the first elements that are not normally distributed"
   ]
  },
  {
   "cell_type": "code",
   "execution_count": 37,
   "id": "0f9b4dac-9cb5-4ec8-9334-9867bcf3986d",
   "metadata": {},
   "outputs": [
    {
     "name": "stdout",
     "output_type": "stream",
     "text": [
      "Anomaly from 1970-01-03 00:00:00 - 1970-01-03 23:59:59, value: 100\n",
      "Anomaly from 1970-01-04 00:00:00 - 1970-01-04 23:59:59, value: 100\n",
      "Anomaly from 1970-01-08 00:00:00 - 1970-01-08 23:59:59, value: 100\n",
      "Anomaly from 1970-01-11 00:00:00 - 1970-01-11 23:59:59, value: 100\n",
      "Anomaly from 1970-01-15 00:00:00 - 1970-01-15 23:59:59, value: 100\n",
      "Anomaly from 1970-01-19 00:00:00 - 1970-01-19 23:59:59, value: 100\n",
      "Anomaly from 1970-01-27 00:00:00 - 1970-01-27 23:59:59, value: 100\n",
      "Anomaly from 1970-02-08 00:00:00 - 1970-02-08 23:59:59, value: 100\n",
      "Anomaly from 1970-02-15 00:00:00 - 1970-02-15 23:59:59, value: 100\n",
      "Anomaly from 1970-02-22 00:00:00 - 1970-02-22 23:59:59, value: 100\n"
     ]
    }
   ],
   "source": [
    "for data_anomaly in first_anomalies:\n",
    "    start_date = data_anomaly[0][0]\n",
    "    value = data_anomaly[0][1]\n",
    "    end_date = data_anomaly[-1][0]\n",
    "    print(f\"Anomaly from {start_date} - {end_date}, value: {value}\")"
   ]
  },
  {
   "cell_type": "code",
   "execution_count": 40,
   "id": "ff69bfc9-eaae-48dc-9509-b946e7b5266a",
   "metadata": {},
   "outputs": [],
   "source": [
    "def groupby_window(data, window_size=3600):\n",
    "    window = tuple(islice(data, window_size))\n",
    "    for item in data:\n",
    "        yield window\n",
    "        window = window[1:] + (item,)"
   ]
  },
  {
   "cell_type": "markdown",
   "id": "7a09decc-f1e0-4166-8316-0ba2005cf787",
   "metadata": {},
   "source": [
    "## References\n",
    "* [Welford's online algorithm for calculating the variance of a time series](https://en.wikipedia.org/wiki/Algorithms_for_calculating_variance#Welford's_online_algorithm)"
   ]
  },
  {
   "cell_type": "code",
   "execution_count": null,
   "id": "fc2a6d75-c1b7-4713-b6b2-beac2811186f",
   "metadata": {},
   "outputs": [],
   "source": []
  }
 ],
 "metadata": {
  "kernelspec": {
   "display_name": "Python 3 (ipykernel)",
   "language": "python",
   "name": "python3"
  },
  "language_info": {
   "codemirror_mode": {
    "name": "ipython",
    "version": 3
   },
   "file_extension": ".py",
   "mimetype": "text/x-python",
   "name": "python",
   "nbconvert_exporter": "python",
   "pygments_lexer": "ipython3",
   "version": "3.12.5"
  }
 },
 "nbformat": 4,
 "nbformat_minor": 5
}
