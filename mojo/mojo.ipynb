{
 "cells": [
  {
   "cell_type": "markdown",
   "id": "85dd1f29-23cc-4c1d-b4a5-6172bfc4094d",
   "metadata": {},
   "source": [
    "# Mojo programming language"
   ]
  },
  {
   "cell_type": "code",
   "execution_count": null,
   "id": "d60df5d3-16c5-4938-b220-e99db8bcafda",
   "metadata": {},
   "outputs": [],
   "source": [
    "!pip install mojo --extra-index-url https://modular.gateway.scarf.sh/simple/"
   ]
  }
 ],
 "metadata": {
  "kernelspec": {
   "display_name": "Python 3 (ipykernel)",
   "language": "python",
   "name": "python3"
  },
  "language_info": {
   "codemirror_mode": {
    "name": "ipython",
    "version": 3
   },
   "file_extension": ".py",
   "mimetype": "text/x-python",
   "name": "python",
   "nbconvert_exporter": "python",
   "pygments_lexer": "ipython3",
   "version": "3.12.5"
  }
 },
 "nbformat": 4,
 "nbformat_minor": 5
}
