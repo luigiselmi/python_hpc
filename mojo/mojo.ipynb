{
 "cells": [
  {
   "cell_type": "markdown",
   "id": "9cd48883",
   "metadata": {
    "colab_type": "text",
    "id": "view-in-github"
   },
   "source": [
    "<a href=\"https://colab.research.google.com/github/luigiselmi/python_hpc/blob/main/mojo/mojo.ipynb\" target=\"_parent\"><img src=\"https://colab.research.google.com/assets/colab-badge.svg\" alt=\"Open In Colab\"/></a>"
   ]
  },
  {
   "cell_type": "markdown",
   "id": "85dd1f29-23cc-4c1d-b4a5-6172bfc4094d",
   "metadata": {
    "id": "85dd1f29-23cc-4c1d-b4a5-6172bfc4094d"
   },
   "source": [
    "# Mojo programming language\n",
    "[Mojo](https://www.modular.com/mojo) is a programming language for CPU and GPU similar to Python"
   ]
  },
  {
   "cell_type": "code",
   "execution_count": 1,
   "id": "d60df5d3-16c5-4938-b220-e99db8bcafda",
   "metadata": {
    "colab": {
     "base_uri": "https://localhost:8080/"
    },
    "id": "d60df5d3-16c5-4938-b220-e99db8bcafda",
    "outputId": "5cd9abaf-ddba-47bc-8387-fde5fc0c7412"
   },
   "outputs": [
    {
     "name": "stdout",
     "output_type": "stream",
     "text": [
      "Looking in indexes: https://pypi.org/simple, https://modular.gateway.scarf.sh/simple/\n",
      "Collecting mojo\n",
      "  Downloading mojo-0.25.6.0-py3-none-manylinux_2_34_x86_64.whl.metadata (2.8 kB)\n",
      "Collecting mojo-compiler==0.25.6.0 (from mojo)\n",
      "  Downloading mojo_compiler-0.25.6.0-py3-none-manylinux_2_34_x86_64.whl.metadata (3.1 kB)\n",
      "Collecting mblack==25.6.0 (from mojo)\n",
      "  Downloading mblack-25.6.0-py3-none-any.whl.metadata (689 bytes)\n",
      "Collecting mojo-lldb-libs==0.25.6.0 (from mojo)\n",
      "  Downloading mojo_lldb_libs-0.25.6.0-py3-none-manylinux_2_34_x86_64.whl.metadata (203 bytes)\n",
      "Requirement already satisfied: click>=8.0.0 in /usr/local/lib/python3.12/dist-packages (from mblack==25.6.0->mojo) (8.2.1)\n",
      "Collecting mypy-extensions>=0.4.3 (from mblack==25.6.0->mojo)\n",
      "  Downloading mypy_extensions-1.1.0-py3-none-any.whl.metadata (1.1 kB)\n",
      "Collecting pathspec>=0.9.0 (from mblack==25.6.0->mojo)\n",
      "  Downloading pathspec-0.12.1-py3-none-any.whl.metadata (21 kB)\n",
      "Requirement already satisfied: platformdirs>=2 in /usr/local/lib/python3.12/dist-packages (from mblack==25.6.0->mojo) (4.4.0)\n",
      "Downloading mojo-0.25.6.0-py3-none-manylinux_2_34_x86_64.whl (27.2 MB)\n",
      "\u001b[2K   \u001b[90m━━━━━━━━━━━━━━━━━━━━━━━━━━━━━━━━━━━━━━━━\u001b[0m \u001b[32m27.2/27.2 MB\u001b[0m \u001b[31m52.6 MB/s\u001b[0m eta \u001b[36m0:00:00\u001b[0m\n",
      "\u001b[?25hDownloading mblack-25.6.0-py3-none-any.whl (146 kB)\n",
      "\u001b[2K   \u001b[90m━━━━━━━━━━━━━━━━━━━━━━━━━━━━━━━━━━━━━━━━\u001b[0m \u001b[32m146.6/146.6 kB\u001b[0m \u001b[31m10.4 MB/s\u001b[0m eta \u001b[36m0:00:00\u001b[0m\n",
      "\u001b[?25hDownloading mojo_compiler-0.25.6.0-py3-none-manylinux_2_34_x86_64.whl (100.7 MB)\n",
      "\u001b[2K   \u001b[90m━━━━━━━━━━━━━━━━━━━━━━━━━━━━━━━━━━━━━━━━\u001b[0m \u001b[32m100.7/100.7 MB\u001b[0m \u001b[31m7.5 MB/s\u001b[0m eta \u001b[36m0:00:00\u001b[0m\n",
      "\u001b[?25hDownloading mojo_lldb_libs-0.25.6.0-py3-none-manylinux_2_34_x86_64.whl (82.9 MB)\n",
      "\u001b[2K   \u001b[90m━━━━━━━━━━━━━━━━━━━━━━━━━━━━━━━━━━━━━━━━\u001b[0m \u001b[32m82.9/82.9 MB\u001b[0m \u001b[31m8.5 MB/s\u001b[0m eta \u001b[36m0:00:00\u001b[0m\n",
      "\u001b[?25hDownloading mypy_extensions-1.1.0-py3-none-any.whl (5.0 kB)\n",
      "Downloading pathspec-0.12.1-py3-none-any.whl (31 kB)\n",
      "Installing collected packages: mojo-lldb-libs, mojo-compiler, pathspec, mypy-extensions, mblack, mojo\n",
      "Successfully installed mblack-25.6.0 mojo-0.25.6.0 mojo-compiler-0.25.6.0 mojo-lldb-libs-0.25.6.0 mypy-extensions-1.1.0 pathspec-0.12.1\n"
     ]
    }
   ],
   "source": [
    "!pip install mojo --extra-index-url https://modular.gateway.scarf.sh/simple/"
   ]
  },
  {
   "cell_type": "code",
   "execution_count": 3,
   "id": "povKN_aFGIXc",
   "metadata": {
    "colab": {
     "base_uri": "https://localhost:8080/"
    },
    "id": "povKN_aFGIXc",
    "outputId": "7148c708-a173-48bb-8e9d-16a41eabff27"
   },
   "outputs": [
    {
     "name": "stdout",
     "output_type": "stream",
     "text": [
      "Mojo 0.25.6.0 (06be5aab)\n"
     ]
    }
   ],
   "source": [
    "!mojo --version"
   ]
  },
  {
   "cell_type": "code",
   "execution_count": 4,
   "id": "KIML-smFGJBi",
   "metadata": {
    "id": "KIML-smFGJBi"
   },
   "outputs": [],
   "source": [
    "def main():\n",
    "    print(\"Hello, World!\")"
   ]
  },
  {
   "cell_type": "code",
   "execution_count": 6,
   "id": "zthub9uxGShv",
   "metadata": {
    "colab": {
     "base_uri": "https://localhost:8080/"
    },
    "id": "zthub9uxGShv",
    "outputId": "6431943e-dd5c-403b-8270-d49f04a2599b"
   },
   "outputs": [
    {
     "name": "stdout",
     "output_type": "stream",
     "text": [
      "Hello, World!\n"
     ]
    }
   ],
   "source": [
    "main()"
   ]
  },
  {
   "cell_type": "code",
   "execution_count": 7,
   "id": "1RY7xvc8GZeg",
   "metadata": {
    "colab": {
     "base_uri": "https://localhost:8080/"
    },
    "id": "1RY7xvc8GZeg",
    "outputId": "999abc26-49d9-4ad5-c15c-622cafc5c51f"
   },
   "outputs": [
    {
     "name": "stdout",
     "output_type": "stream",
     "text": [
      "Cloning into 'modular'...\n",
      "remote: Enumerating objects: 233391, done.\u001b[K\n",
      "remote: Counting objects: 100% (567/567), done.\u001b[K\n",
      "remote: Compressing objects: 100% (296/296), done.\u001b[K\n",
      "remote: Total 233391 (delta 381), reused 336 (delta 268), pack-reused 232824 (from 2)\u001b[K\n",
      "Receiving objects: 100% (233391/233391), 111.64 MiB | 26.04 MiB/s, done.\n",
      "Resolving deltas: 100% (180095/180095), done.\n",
      "Note: switching to 'f2f9aa604e175a65407235704bbe52ddf9df038b'.\n",
      "\n",
      "You are in 'detached HEAD' state. You can look around, make experimental\n",
      "changes and commit them, and you can discard any commits you make in this\n",
      "state without impacting any branches by switching back to a branch.\n",
      "\n",
      "If you want to create a new branch to retain commits you create, you may\n",
      "do so (now or later) by using -c with the switch command. Example:\n",
      "\n",
      "  git switch -c <new-branch-name>\n",
      "\n",
      "Or undo this operation with:\n",
      "\n",
      "  git switch -\n",
      "\n",
      "Turn off this advice by setting config variable advice.detachedHead to false\n",
      "\n"
     ]
    }
   ],
   "source": [
    "!git clone -b stable https://github.com/modular/modular.git"
   ]
  },
  {
   "cell_type": "code",
   "execution_count": 8,
   "id": "6-bP81aZGrB7",
   "metadata": {
    "colab": {
     "base_uri": "https://localhost:8080/"
    },
    "id": "6-bP81aZGrB7",
    "outputId": "9cafbefa-d8e9-440c-9c52-32c479c3089f"
   },
   "outputs": [
    {
     "name": "stdout",
     "output_type": "stream",
     "text": [
      "/content/modular/examples/mojo\n"
     ]
    }
   ],
   "source": [
    "cd modular/examples/mojo"
   ]
  },
  {
   "cell_type": "code",
   "execution_count": 10,
   "id": "FAF4Q_rNG5Dd",
   "metadata": {
    "colab": {
     "base_uri": "https://localhost:8080/"
    },
    "id": "FAF4Q_rNG5Dd",
    "outputId": "c88a96b7-04c3-4893-a75a-769f5d0e1075"
   },
   "outputs": [
    {
     "name": "stdout",
     "output_type": "stream",
     "text": [
      "Starting nbody...\n",
      "Energy of System: -0.16907516382852458\n",
      "Energy of System: -0.1690599068142224\n"
     ]
    }
   ],
   "source": [
    "!mojo nbody.mojo"
   ]
  },
  {
   "cell_type": "code",
   "execution_count": null,
   "id": "lt8PfLaMH_vE",
   "metadata": {
    "id": "lt8PfLaMH_vE"
   },
   "outputs": [],
   "source": []
  }
 ],
 "metadata": {
  "colab": {
   "include_colab_link": true,
   "provenance": []
  },
  "kernelspec": {
   "display_name": "Python 3 (ipykernel)",
   "language": "python",
   "name": "python3"
  },
  "language_info": {
   "codemirror_mode": {
    "name": "ipython",
    "version": 3
   },
   "file_extension": ".py",
   "mimetype": "text/x-python",
   "name": "python",
   "nbconvert_exporter": "python",
   "pygments_lexer": "ipython3",
   "version": "3.12.5"
  }
 },
 "nbformat": 4,
 "nbformat_minor": 5
}
