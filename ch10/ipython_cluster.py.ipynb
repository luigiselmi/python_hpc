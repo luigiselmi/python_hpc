{
 "cells": [
  {
   "cell_type": "markdown",
   "id": "9902c3e4-a867-48f1-9d24-dc0e312528c3",
   "metadata": {},
   "source": [
    "# Ch.10 IPython cluster"
   ]
  },
  {
   "cell_type": "code",
   "execution_count": 1,
   "id": "57e3901c-b05b-47da-8e37-30f0374fa070",
   "metadata": {},
   "outputs": [],
   "source": [
    "import time\n",
    "import ipyparallel as ipp"
   ]
  },
  {
   "cell_type": "code",
   "execution_count": 3,
   "id": "d7da57e9-0777-4a85-931e-ffe035a7470f",
   "metadata": {},
   "outputs": [
    {
     "name": "stdout",
     "output_type": "stream",
     "text": [
      "Starting 4 engines with <class 'ipyparallel.cluster.launcher.LocalEngineSetLauncher'>\n"
     ]
    },
    {
     "data": {
      "application/vnd.jupyter.widget-view+json": {
       "model_id": "52d8376e9b3c48ac915d71ee57065e83",
       "version_major": 2,
       "version_minor": 0
      },
      "text/plain": [
       "  0%|          | 0/4 [00:00<?, ?engine/s]"
      ]
     },
     "metadata": {},
     "output_type": "display_data"
    },
    {
     "data": {
      "application/vnd.jupyter.widget-view+json": {
       "model_id": "4ae32a036aa84c208e08bea7b7950d80",
       "version_major": 2,
       "version_minor": 0
      },
      "text/plain": [
       "sleep:   0%|          | 0/10 [00:00<?, ?tasks/s]"
      ]
     },
     "metadata": {},
     "output_type": "display_data"
    },
    {
     "name": "stdout",
     "output_type": "stream",
     "text": [
      "Stopping engine(s): 1759419445\n",
      "Output for 3:\n",
      "2025-10-02 17:37:40.997 [IPEngine] Loading connection info from $IPP_CONNECTION_INFO\n",
      "2025-10-02 17:37:40.998 [IPEngine] WARNING | Not using CurveZMQ security\n",
      "2025-10-02 17:37:41.047 [IPEngine] Registering with controller at tcp://127.0.0.1:64296\n",
      "C:\\Users\\Luigi\\anaconda3\\envs\\act6-env\\Lib\\site-packages\\zmq\\_future.py:724: RuntimeWarning: Proactor event loop does not implement add_reader family of methods required for zmq. Registering an additional selector thread for add_reader support via tornado. Use `asyncio.set_event_loop_policy(WindowsSelectorEventLoopPolicy())` to avoid this warning.\n",
      "  self._get_loop()\n",
      "2025-10-02 17:37:41.129 [IPEngine.1] Shell_addrs: ['tcp://127.0.0.1:64299', 'tcp://127.0.0.1:64300', 'tcp://127.0.0.1:64305']\n",
      "2025-10-02 17:37:41.133 [IPEngine.1] Connecting shell to tcp://127.0.0.1:64299\n",
      "2025-10-02 17:37:41.133 [IPEngine.1] Connecting shell to tcp://127.0.0.1:64300\n",
      "2025-10-02 17:37:41.133 [IPEngine.1] Connecting shell to tcp://127.0.0.1:64305\n",
      "2025-10-02 17:37:41.134 [IPEngine.1] Starting nanny\n",
      "2025-10-02 17:37:48.600 [KernelNanny.1] Starting kernel nanny for engine 1, pid=2740, nanny pid=15668\n",
      "2025-10-02 17:37:48.615 [KernelNanny.1] Nanny watching parent pid 2740.\n",
      "2025-10-02 17:37:49.620 [IPEngine.1] Loading IPython extension: storemagic\n",
      "2025-10-02 17:37:49.631 [IPEngine.1] WARNING | debugpy_stream undefined, debugging will not be enabled\n",
      "2025-10-02 17:37:49.750 [IPEngine.1] Starting to monitor the heartbeat signal from the hub every 3500 ms.\n",
      "2025-10-02 17:37:49.755 [IPEngine.1] Completed registration with id 1\n",
      "2025-10-02 17:37:54.829 [IPEngine.1] Handling apply_request: 16715d03-517e1e8dd40024b263109b46_8796_2\n",
      "2025-10-02 17:37:56.431 [IPEngine.1] Handling apply_request: 16715d03-517e1e8dd40024b263109b46_8796_8\n",
      "\n",
      "engine set stopped 1759419445: {'engines': {'0': {'exit_code': 1, 'pid': 11608, 'identifier': '0'}, '1': {'exit_code': 1, 'pid': 14272, 'identifier': '1'}, '2': {'exit_code': 1, 'pid': 16456, 'identifier': '2'}, '3': {'exit_code': 1, 'pid': 2740, 'identifier': '3'}}, 'exit_code': 1}\n",
      "Stopping controller\n",
      "Output for ipcontroller-1759419443-brk8-8796:\n",
      "2025-10-02 17:37:27.082 [IPController] Hub listening on tcp://127.0.0.1:64296 for registration.\n",
      "2025-10-02 17:37:27.102 [IPController] Hub using DB backend: DictDB\n",
      "2025-10-02 17:37:27.364 [IPController] hub::created hub\n",
      "2025-10-02 17:37:27.365 [IPController] writing connection info to C:\\Users\\Luigi\\.ipython\\profile_default\\security\\ipcontroller-1759419443-brk8-client.json\n",
      "2025-10-02 17:37:27.370 [IPController] writing connection info to C:\\Users\\Luigi\\.ipython\\profile_default\\security\\ipcontroller-1759419443-brk8-engine.json\n",
      "2025-10-02 17:37:27.375 [IPController] task::using Python leastload Task scheduler\n",
      "2025-10-02 17:37:27.489 [IPController] Heartmonitor beating every 3000ms\n",
      "2025-10-02 17:37:28.141 [IPController] client::client b'\\x00\\x80\\x00\\x00)' requested 'connection_request'\n",
      "2025-10-02 17:37:28.141 [IPController] client::client [b'\\x00\\x80\\x00\\x00)'] connected\n",
      "2025-10-02 17:37:39.510 [broadcast-01] BroadcastScheduler 01 started\n",
      "2025-10-02 17:37:40.368 [IPController] client::client b'fb8dabeb-d87579930e2d6295f143ce66' requested 'registration_request'\n",
      "2025-10-02 17:37:40.369 [IPController] registration::accepting registration 0:fb8dabeb-d87579930e2d6295f143ce66\n",
      "2025-10-02 17:37:40.816 [broadcast-0] BroadcastScheduler 0 started\n",
      "2025-10-02 17:37:41.126 [IPController] client::client b'8243b5b7-7c4a9582076460633ad03c7d' requested 'registration_request'\n",
      "2025-10-02 17:37:41.127 [IPController] registration::accepting registration 1:8243b5b7-7c4a9582076460633ad03c7d\n",
      "2025-10-02 17:37:41.529 [IPController] client::client b'9320d31b-5dab583f28876a17c6d6dbf3' requested 'registration_request'\n",
      "2025-10-02 17:37:41.530 [IPController] registration::accepting registration 2:9320d31b-5dab583f28876a17c6d6dbf3\n",
      "2025-10-02 17:37:41.622 [task] Task scheduler started [leastload]\n",
      "2025-10-02 17:37:41.624 [IPController] client::client b'\\x00\\x80\\x00\\x00,' requested 'connection_request'\n",
      "2025-10-02 17:37:41.625 [IPController] client::client [b'\\x00\\x80\\x00\\x00,'] connected\n",
      "2025-10-02 17:37:41.754 [broadcast-00] BroadcastScheduler 00 started\n",
      "2025-10-02 17:37:41.835 [IPController] client::client b'4135b24d-74011bf6cc1842a03be7f1ea' requested 'registration_request'\n",
      "2025-10-02 17:37:41.836 [IPController] registration::accepting registration 3:4135b24d-74011bf6cc1842a03be7f1ea\n",
      "2025-10-02 17:37:42.377 [IPController] heartbeat::waiting for subscription\n",
      "2025-10-02 17:37:42.378 [IPController] heartbeat::subscription started\n",
      "2025-10-02 17:37:54.392 [IPController] Notifying hub of 4 new hearts\n",
      "2025-10-02 17:37:54.397 [IPController] Registering 4 new hearts\n",
      "2025-10-02 17:37:54.398 [IPController] registration::finished registering engine 0:fb8dabeb-d87579930e2d6295f143ce66 in 14031ms\n",
      "2025-10-02 17:37:54.399 [IPController] engine::Engine Connected: 0\n",
      "2025-10-02 17:37:54.401 [IPController] registration::finished registering engine 2:9320d31b-5dab583f28876a17c6d6dbf3 in 12875ms\n",
      "2025-10-02 17:37:54.402 [IPController] engine::Engine Connected: 2\n",
      "2025-10-02 17:37:54.404 [IPController] registration::finished registering engine 1:8243b5b7-7c4a9582076460633ad03c7d in 13266ms\n",
      "2025-10-02 17:37:54.404 [IPController] engine::Engine Connected: 1\n",
      "2025-10-02 17:37:54.406 [IPController] registration::finished registering engine 3:4135b24d-74011bf6cc1842a03be7f1ea in 12563ms\n",
      "2025-10-02 17:37:54.406 [IPController] engine::Engine Connected: 3\n",
      "2025-10-02 17:37:54.824 [IPController] task::task '16715d03-517e1e8dd40024b263109b46_8796_1' arrived on 3\n",
      "2025-10-02 17:37:54.828 [IPController] task::task '16715d03-517e1e8dd40024b263109b46_8796_2' arrived on 1\n",
      "2025-10-02 17:37:54.831 [IPController] task::task '16715d03-517e1e8dd40024b263109b46_8796_3' arrived on 2\n",
      "2025-10-02 17:37:54.833 [IPController] task::task '16715d03-517e1e8dd40024b263109b46_8796_4' arrived on 0\n",
      "2025-10-02 17:37:56.351 [IPController] task::task '16715d03-517e1e8dd40024b263109b46_8796_5' arrived on 2\n",
      "2025-10-02 17:37:56.353 [IPController] task::task '16715d03-517e1e8dd40024b263109b46_8796_3' finished on 2\n",
      "2025-10-02 17:37:56.389 [IPController] task::task '16715d03-517e1e8dd40024b263109b46_8796_6' arrived on 0\n",
      "2025-10-02 17:37:56.390 [IPController] task::task '16715d03-517e1e8dd40024b263109b46_8796_4' finished on 0\n",
      "2025-10-02 17:37:56.392 [IPController] task::task '16715d03-517e1e8dd40024b263109b46_8796_7' arrived on 3\n",
      "2025-10-02 17:37:56.393 [IPController] task::task '16715d03-517e1e8dd40024b263109b46_8796_1' finished on 3\n",
      "2025-10-02 17:37:56.427 [IPController] task::task '16715d03-517e1e8dd40024b263109b46_8796_8' arrived on 1\n",
      "2025-10-02 17:37:56.428 [IPController] task::task '16715d03-517e1e8dd40024b263109b46_8796_2' finished on 1\n",
      "2025-10-02 17:37:57.371 [IPController] task::task '16715d03-517e1e8dd40024b263109b46_8796_9' arrived on 2\n",
      "2025-10-02 17:37:57.374 [IPController] task::task '16715d03-517e1e8dd40024b263109b46_8796_5' finished on 2\n",
      "2025-10-02 17:37:57.411 [IPController] task::task '16715d03-517e1e8dd40024b263109b46_8796_10' arrived on 3\n",
      "2025-10-02 17:37:57.414 [IPController] task::task '16715d03-517e1e8dd40024b263109b46_8796_7' finished on 3\n",
      "2025-10-02 17:37:57.421 [IPController] task::task '16715d03-517e1e8dd40024b263109b46_8796_6' finished on 0\n",
      "2025-10-02 17:37:57.440 [IPController] task::task '16715d03-517e1e8dd40024b263109b46_8796_8' finished on 1\n",
      "2025-10-02 17:37:58.391 [IPController] task::task '16715d03-517e1e8dd40024b263109b46_8796_9' finished on 2\n",
      "2025-10-02 17:37:58.438 [IPController] task::task '16715d03-517e1e8dd40024b263109b46_8796_10' finished on 3\n",
      "\n",
      "Controller stopped: {'exit_code': 1, 'pid': 16396, 'identifier': 'ipcontroller-1759419443-brk8-8796'}\n",
      "Failed to remove C:\\Users\\Luigi\\.ipython\\profile_default\\log\\ipengine-1759419347-algb-1759419349-3.log: [WinError 32] Impossibile accedere al file. Il file è utilizzato da un altro processo: 'C:\\\\Users\\\\Luigi\\\\.ipython\\\\profile_default\\\\log\\\\ipengine-1759419347-algb-1759419349-3.log'\n",
      "Failed to remove C:\\Users\\Luigi\\.ipython\\profile_default\\log\\ipengine-1759419347-algb-1759419349-0.log: [WinError 32] Impossibile accedere al file. Il file è utilizzato da un altro processo: 'C:\\\\Users\\\\Luigi\\\\.ipython\\\\profile_default\\\\log\\\\ipengine-1759419347-algb-1759419349-0.log'\n",
      "Failed to remove C:\\Users\\Luigi\\.ipython\\profile_default\\log\\ipengine-1759419347-algb-1759419349-2.log: [WinError 32] Impossibile accedere al file. Il file è utilizzato da un altro processo: 'C:\\\\Users\\\\Luigi\\\\.ipython\\\\profile_default\\\\log\\\\ipengine-1759419347-algb-1759419349-2.log'\n",
      "Failed to remove C:\\Users\\Luigi\\.ipython\\profile_default\\log\\ipengine-1759419347-algb-1759419349-1.log: [WinError 32] Impossibile accedere al file. Il file è utilizzato da un altro processo: 'C:\\\\Users\\\\Luigi\\\\.ipython\\\\profile_default\\\\log\\\\ipengine-1759419347-algb-1759419349-1.log'\n",
      "engine set stopped 1759419349: {'engines': {'3': {'exit_code': 0, 'pid': 11488, 'identifier': '3'}, '0': {'exit_code': 0, 'pid': 4644, 'identifier': '0'}, '2': {'exit_code': 0, 'pid': 10792, 'identifier': '2'}, '1': {'exit_code': 0, 'pid': 18664, 'identifier': '1'}}, 'exit_code': 0}\n"
     ]
    }
   ],
   "source": [
    "task_durations = [1] * 10\n",
    "# request a cluster\n",
    "with ipp.Cluster() as rc:\n",
    "    # get a view on the cluster\n",
    "    view = rc.load_balanced_view()\n",
    "    # submit the tasks\n",
    "    asyncresult = view.map_async(time.sleep, task_durations)\n",
    "    # wait interactively for results\n",
    "    asyncresult.wait_interactive()\n",
    "    # retrieve actual results\n",
    "    result = asyncresult.get()\n",
    "# at this point, the cluster processes have been shutdown"
   ]
  },
  {
   "cell_type": "code",
   "execution_count": null,
   "id": "a58bae80-ee1e-4109-9187-819812c163dd",
   "metadata": {},
   "outputs": [],
   "source": []
  }
 ],
 "metadata": {
  "kernelspec": {
   "display_name": "Python 3 (ipykernel)",
   "language": "python",
   "name": "python3"
  },
  "language_info": {
   "codemirror_mode": {
    "name": "ipython",
    "version": 3
   },
   "file_extension": ".py",
   "mimetype": "text/x-python",
   "name": "python",
   "nbconvert_exporter": "python",
   "pygments_lexer": "ipython3",
   "version": "3.12.5"
  }
 },
 "nbformat": 4,
 "nbformat_minor": 5
}
