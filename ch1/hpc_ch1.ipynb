{
 "cells": [
  {
   "cell_type": "markdown",
   "id": "92f7f662-53fe-40ef-a00b-0ee025c22955",
   "metadata": {},
   "source": [
    "# Computations\n",
    "A processor may have more than one CPU that can access data storage systems, with different read and write charateristics, connected by buses. Knowing how a CPU performs a calculation provides insight in how to write performant code. A computing unit is made of a CPU connected to a RAM memory unit and a HD for data storage. A CPU comes with its own very fast memory units, or caches, named L1, L2. A CPU is characterized by\n",
    " \n",
    "* Number of instructions per cycle (IPC)\n",
    "* Number of cycles per second (or clock speed)\n",
    "\n",
    "A CPU can perform vectorized computation with the Single Instruction Multiple Data (SIMD) architecture.\n",
    "Different techniques have been developed to improve a CPU performance:\n",
    "\n",
    "* Multithreading, that is, using one CPU by more than one process\n",
    "* Multicore architecture, that is putting more cores on one CPU for parallel processing. Specific software must be developed to use the cores available. The slowest process in a parallel computation defines the speed of the computation.\n",
    "\n",
    "Python cannot handle parallel instructions. This issue is known as Global Interpreter Lock (GIL). Only one instruction is executed at any one time even if more cores are available. Some packages like NumPy do not have this limitation.\n",
    "\n",
    "The characteristics of memory units, cache, RAM, SSD, hard disks, are read/write speeds and latency.      \n",
    "\n",
    "The parts of a computer, CPU, RAM and memory units, communicate via a bus. They have different speed and number of lines, e.g. 8 or a multiple to send one or more bytes of data from one component to another. The characteristics of a bus are its width (number of lines) and transfers per second (frequency).\n",
    "\n",
    "Other issues of Python against high performance are that it is an interpreted language, so the code cannot be optimized at compilation time, and that it uses dynamic types not static ones so the compiler cannot check for errors nor optimize the memory usage. Many of these issues can be solved by using additional packages such as NumPy that provide API interfaces between the Python code and C/C++ or Fortran compiled code."
   ]
  },
  {
   "cell_type": "code",
   "execution_count": 6,
   "id": "8b951392-b865-4593-9bf7-0fc4741a8c26",
   "metadata": {},
   "outputs": [],
   "source": [
    "import math\n",
    "import time"
   ]
  },
  {
   "cell_type": "code",
   "execution_count": 2,
   "id": "1b349c21-82db-4451-8d2f-17e1ce4df427",
   "metadata": {},
   "outputs": [],
   "source": [
    "def check_prime(number):\n",
    "    sqrt_number = math.sqrt(number)\n",
    "    for i in range(2, int(sqrt_number) + 1):\n",
    "        if (number / i).is_integer():\n",
    "            return False\n",
    "    return True"
   ]
  },
  {
   "cell_type": "markdown",
   "id": "63535c5a-cf7a-4544-bc7a-c9a0df858fae",
   "metadata": {},
   "source": [
    "If we perform the same calculation with a prime number the second time may take no time since the previous result is cached."
   ]
  },
  {
   "cell_type": "code",
   "execution_count": 48,
   "id": "e920e397-0620-4fa6-8fc3-092c161c5daa",
   "metadata": {},
   "outputs": [
    {
     "name": "stdout",
     "output_type": "stream",
     "text": [
      "check_prime(1000000131173) = False\n",
      "Compute time: 3995.66 μ sec.\n"
     ]
    }
   ],
   "source": [
    "prime_candidate = 1000000131173\n",
    "start_time = time.time()\n",
    "result = check_prime(prime_candidate)\n",
    "end_time = time.time()\n",
    "compute_time = (end_time - start_time) * 1000000 # microseconds\n",
    "print(f\"check_prime({prime_candidate}) = {result}\")\n",
    "print('Compute time: {:.2f} \\u03BC sec.'.format(compute_time))"
   ]
  },
  {
   "cell_type": "code",
   "execution_count": null,
   "id": "57cca200-97c8-4b52-876e-df9cf6650255",
   "metadata": {},
   "outputs": [],
   "source": []
  }
 ],
 "metadata": {
  "kernelspec": {
   "display_name": "Python 3 (ipykernel)",
   "language": "python",
   "name": "python3"
  },
  "language_info": {
   "codemirror_mode": {
    "name": "ipython",
    "version": 3
   },
   "file_extension": ".py",
   "mimetype": "text/x-python",
   "name": "python",
   "nbconvert_exporter": "python",
   "pygments_lexer": "ipython3",
   "version": "3.12.5"
  }
 },
 "nbformat": 4,
 "nbformat_minor": 5
}
