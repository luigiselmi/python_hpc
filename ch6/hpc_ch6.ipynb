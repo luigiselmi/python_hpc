{
 "cells": [
  {
   "cell_type": "markdown",
   "id": "f11942d2-662a-47f9-a0c9-a0783a68d994",
   "metadata": {},
   "source": [
    "# Matrix and vector computation\n",
    "In this notebook we'll see how matrix computation is performed in Python with an example from statistical mechanics: the diffusion equation, also known as random walk in finance. Next we will implement the same algorithm using NumPy."
   ]
  },
  {
   "cell_type": "code",
   "execution_count": 3,
   "id": "9b964e45-30d6-433c-97ec-37deab876d4e",
   "metadata": {},
   "outputs": [],
   "source": [
    "import time"
   ]
  },
  {
   "cell_type": "markdown",
   "id": "1494af6f-e0d6-4413-b965-d8fcfd7eaccc",
   "metadata": {},
   "source": [
    "We might look carefully at the diffusion equation to better understand what it means\n",
    "\n",
    "$$ \\frac{\\partial u(u, t)}{\\partial t} = D \\nabla^2 u(x, t)$$\n",
    "\n",
    "where D is the diffusion coefficient that we assume constant. In one dimension, e.g. x, it is written\n",
    "\n",
    "$$\\frac{\\partial u(u, t)}{\\partial t} = D \\frac{\\partial^2 u(x, t)}{\\partial x^2}$$\n",
    "\n",
    "If we use the Euler's method to discretize the partial derivatives we have\n",
    "\n",
    "$$\\frac{u(x, t + \\Delta t)}{\\Delta t} = D \\frac{u(u + \\Delta x, t) - u(x - \\Delta x, t) - 2u(x, t)}{\\Delta x^2}$$\n",
    "\n",
    "This means that in order to compute the value of u at x for the next time step $t + \\Delta t$ we need to know the value of u in the two neighboring grid points at $x - \\Delta x$ and at $x + \\Delta x$. Once we know the initial value at each grid point we can compute the future value of u at any point in space and at any future time step.  "
   ]
  },
  {
   "cell_type": "markdown",
   "id": "3bf97830-bc7d-4f84-a9ca-17bb6f0ca08d",
   "metadata": {},
   "source": [
    "We want to compute the values of the diffusion equation for all the grid points for a given number of steps. The grid is instantiated as a list array and then it is initialized  "
   ]
  },
  {
   "cell_type": "code",
   "execution_count": 18,
   "id": "9d58da14-f4b7-492d-873e-4e3a4e8e74cc",
   "metadata": {},
   "outputs": [],
   "source": [
    "def init_grid(grid_shape):\n",
    "    # grid instantiation\n",
    "    grid = [[0.0 for x in range(grid_shape[1])] for x in range(grid_shape[0])]\n",
    "    \n",
    "    # grid initialization\n",
    "    block_low = int(grid_shape[0] * 0.4)\n",
    "    block_high = int(grid_shape[0] * 0.5)\n",
    "    for i in range(block_low, block_high):\n",
    "        for j in range(block_low, block_high):\n",
    "            grid[i][j] = 0.005\n",
    "    return grid"
   ]
  },
  {
   "cell_type": "markdown",
   "id": "9fcbb7b3-5ebc-44cb-8ad3-bf4eac738503",
   "metadata": {},
   "source": [
    "The *diffuse()* function computes the next value of diffusion equation for each grid point using the Euler's discretization method starting from the values in the input grid."
   ]
  },
  {
   "cell_type": "code",
   "execution_count": 29,
   "id": "482252b0-1985-4d33-9e3b-fcc33a1ac7d1",
   "metadata": {},
   "outputs": [],
   "source": [
    "#@profile\n",
    "def diffuse(grid, dt, D=1.0):\n",
    "    xmax, ymax = grid_shape\n",
    "    new_grid = [[0.0 for x in range(grid_shape[1])] for x in range(grid_shape[0])]\n",
    "    for i in range(xmax):\n",
    "        for j in range(ymax):\n",
    "            grid_xx = (\n",
    "                grid[(i + 1) % xmax][j] + grid[(i - 1) % xmax][j] - 2.0 * grid[i][j]\n",
    "            )\n",
    "            grid_yy = (\n",
    "                grid[i][(j + 1) % ymax] + grid[i][(j - 1) % ymax] - 2.0 * grid[i][j]\n",
    "            )\n",
    "            new_grid[i][j] = grid[i][j] + D * (grid_xx + grid_yy) * dt\n",
    "    return new_grid"
   ]
  },
  {
   "cell_type": "markdown",
   "id": "ab90be7c-1c6f-48fe-8684-d2076cefb284",
   "metadata": {},
   "source": [
    "The *evolve_grid* function computes the diffuse equation for a number of iteration"
   ]
  },
  {
   "cell_type": "code",
   "execution_count": 30,
   "id": "fd1b91bf-10f4-42f3-83ed-ef6f7f14baf3",
   "metadata": {},
   "outputs": [],
   "source": [
    "def evolve_grid(grid, num_iterations):\n",
    "    # grid evolution\n",
    "    start = time.time()\n",
    "    for i in range(num_iterations):\n",
    "        grid = diffuse(grid, 0.1)\n",
    "    return time.time() - start"
   ]
  },
  {
   "cell_type": "code",
   "execution_count": 31,
   "id": "aff11cd1-79bc-463b-a384-bd6398b47aca",
   "metadata": {},
   "outputs": [
    {
     "name": "stdout",
     "output_type": "stream",
     "text": [
      "execution time:  264.1395628452301\n"
     ]
    }
   ],
   "source": [
    "if __name__ == \"__main__\":\n",
    "    number_of_steps = 500\n",
    "    grid_shape = (640, 640)\n",
    "    grid = init_grid(grid_shape)\n",
    "    t = evolve_grid(grid, number_of_steps)\n",
    "    print('execution time: ', t)"
   ]
  },
  {
   "cell_type": "code",
   "execution_count": null,
   "id": "4e9f9433-0615-4674-80ec-2e6042112195",
   "metadata": {},
   "outputs": [],
   "source": []
  }
 ],
 "metadata": {
  "kernelspec": {
   "display_name": "Python 3 (ipykernel)",
   "language": "python",
   "name": "python3"
  },
  "language_info": {
   "codemirror_mode": {
    "name": "ipython",
    "version": 3
   },
   "file_extension": ".py",
   "mimetype": "text/x-python",
   "name": "python",
   "nbconvert_exporter": "python",
   "pygments_lexer": "ipython3",
   "version": "3.12.5"
  }
 },
 "nbformat": 4,
 "nbformat_minor": 5
}
